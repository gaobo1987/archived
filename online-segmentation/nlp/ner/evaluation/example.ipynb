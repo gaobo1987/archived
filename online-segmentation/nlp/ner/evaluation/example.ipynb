{
 "cells": [
  {
   "cell_type": "code",
   "execution_count": 1,
   "metadata": {},
   "outputs": [],
   "source": [
    "from ner_evaluator import NEREvaluator\n",
    "# specify the langugae}\n",
    "lang = 'el'"
   ]
  },
  {
   "cell_type": "code",
   "execution_count": 2,
   "metadata": {},
   "outputs": [
    {
     "name": "stdout",
     "output_type": "stream",
     "text": [
      "...loading model bert_base_multilingual_uncased_ft_510\n",
      "========== BERT model ==========\n",
      "model_path:  /home/bo/workspace/online-segmentation/nlp/ner/resources/el/models/bert_base_multilingual_uncased_ft_510\n",
      "tokenizer_args:  {'do_lower_case': True, 'strip_accents': True, 'keep_accents': False, 'use_fast': False}\n",
      "entity_labels:  ['B-PER', 'B-ORG', 'I-ORG', 'B-LOC', 'O', 'I-LOC', 'I-PER', 'B-MISC', 'I-MISC']\n",
      "bert_type:  bert\n",
      "num_epochs:  1\n",
      "batch_size:  32\n",
      "max_seq_length:  128\n",
      "learning_rate:  5e-05\n",
      "adam_epsilon:  1e-08\n",
      "device:  cuda\n"
     ]
    }
   ],
   "source": [
    "e = NEREvaluator(lang)"
   ]
  },
  {
   "cell_type": "code",
   "execution_count": 3,
   "metadata": {},
   "outputs": [
    {
     "name": "stderr",
     "output_type": "stream",
     "text": [
      "100%|██████████| 619/619 [00:07<00:00, 79.06it/s]\n"
     ]
    }
   ],
   "source": [
    "e.write_results_to_csv()"
   ]
  },
  {
   "cell_type": "code",
   "execution_count": null,
   "metadata": {},
   "outputs": [],
   "source": []
  },
  {
   "cell_type": "code",
   "execution_count": null,
   "metadata": {},
   "outputs": [],
   "source": []
  },
  {
   "cell_type": "code",
   "execution_count": null,
   "metadata": {},
   "outputs": [],
   "source": []
  }
 ],
 "metadata": {
  "kernelspec": {
   "display_name": "qsegmt-venv",
   "language": "python",
   "name": "qsegmt-venv"
  },
  "language_info": {
   "codemirror_mode": {
    "name": "ipython",
    "version": 3
   },
   "file_extension": ".py",
   "mimetype": "text/x-python",
   "name": "python",
   "nbconvert_exporter": "python",
   "pygments_lexer": "ipython3",
   "version": "3.7.3"
  }
 },
 "nbformat": 4,
 "nbformat_minor": 4
}
