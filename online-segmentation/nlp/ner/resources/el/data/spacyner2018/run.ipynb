{
 "cells": [
  {
   "cell_type": "code",
   "execution_count": 1,
   "metadata": {},
   "outputs": [
    {
     "name": "stdout",
     "output_type": "stream",
     "text": [
      "loading spacy model...\n"
     ]
    },
    {
     "name": "stderr",
     "output_type": "stream",
     "text": [
      "8it [00:00, 76.64it/s]"
     ]
    },
    {
     "name": "stdout",
     "output_type": "stream",
     "text": [
      "writing data...\n"
     ]
    },
    {
     "name": "stderr",
     "output_type": "stream",
     "text": [
      "2476it [00:25, 95.50it/s] \n"
     ]
    }
   ],
   "source": [
    "# ===============================================================================\n",
    "# Step 1: parse the original jsonl data into bio format \n",
    "# ===============================================================================\n",
    "import os\n",
    "from utils import convert_spacy_jsonl_to_bio\n",
    "\n",
    "input_path = os.path.join('original', 'ner.jsonl')\n",
    "output_path = os.path.join('all.txt')\n",
    "spacy_path = os.path.abspath(os.path.join('..', '..', 'models', 'spacy_default'))\n",
    "convert_spacy_jsonl_to_bio(input_path, output_path, spacy_path)"
   ]
  },
  {
   "cell_type": "code",
   "execution_count": 1,
   "metadata": {},
   "outputs": [],
   "source": [
    "# ================================================================================\n",
    "# Step 2: map the original labels to conventional\n",
    "# PERSON -> PER\n",
    "# PRODUCT -> MISC\n",
    "# GPE -> LOC\n",
    "# EVENT -> MISC\n",
    "# ================================================================================\n",
    "from utils import map_original_labels_to_conventional\n",
    "map_original_labels_to_conventional(data_path='all.txt')"
   ]
  },
  {
   "cell_type": "code",
   "execution_count": 2,
   "metadata": {},
   "outputs": [
    {
     "name": "stderr",
     "output_type": "stream",
     "text": [
      "78425it [00:00, 2250058.42it/s]\n",
      "100%|██████████| 2476/2476 [00:00<00:00, 113942.89it/s]\n"
     ]
    }
   ],
   "source": [
    "# ================================================================================\n",
    "# Step 3: split the all.txt into train.txt (65%), test.txt (25%) and dev.txt (10%)\n",
    "# ================================================================================\n",
    "from utils import split_all_bio_data_into_three_sets\n",
    "split_all_bio_data_into_three_sets(train=0.65, test=0.25, dev=0.1, data_path='all.txt')"
   ]
  },
  {
   "cell_type": "code",
   "execution_count": 3,
   "metadata": {},
   "outputs": [
    {
     "data": {
      "text/plain": [
       "{'O': 72663,\n",
       " 'B-ORG': 615,\n",
       " 'B-PER': 637,\n",
       " 'B-MISC': 123,\n",
       " 'B-LOC': 863,\n",
       " 'I-ORG': 441,\n",
       " 'I-PER': 387,\n",
       " 'I-LOC': 97,\n",
       " 'I-MISC': 123}"
      ]
     },
     "execution_count": 3,
     "metadata": {},
     "output_type": "execute_result"
    }
   ],
   "source": [
    "# ================================================================================\n",
    "# Step 4: extract the label set from all.txt\n",
    "# ================================================================================\n",
    "from utils import extract_labels\n",
    "extract_labels(data_path='all.txt', save_label_path='labels.txt')"
   ]
  },
  {
   "cell_type": "code",
   "execution_count": null,
   "metadata": {},
   "outputs": [],
   "source": []
  },
  {
   "cell_type": "code",
   "execution_count": null,
   "metadata": {},
   "outputs": [],
   "source": []
  }
 ],
 "metadata": {
  "kernelspec": {
   "display_name": "qsegmt-venv",
   "language": "python",
   "name": "qsegmt-venv"
  },
  "language_info": {
   "codemirror_mode": {
    "name": "ipython",
    "version": 3
   },
   "file_extension": ".py",
   "mimetype": "text/x-python",
   "name": "python",
   "nbconvert_exporter": "python",
   "pygments_lexer": "ipython3",
   "version": "3.7.3"
  }
 },
 "nbformat": 4,
 "nbformat_minor": 4
}
