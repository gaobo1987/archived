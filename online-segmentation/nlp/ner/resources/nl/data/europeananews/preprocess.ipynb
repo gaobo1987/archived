{
 "cells": [
  {
   "cell_type": "code",
   "execution_count": 11,
   "metadata": {},
   "outputs": [
    {
     "name": "stdout",
     "output_type": "stream",
     "text": [
      "182217 lines written\n",
      "2005 sentences delineated\n"
     ]
    }
   ],
   "source": [
    "# There are some obvious missing NER tags missing in the dataset,\n",
    "# and the sentences are not separated.\n",
    "# this script\n",
    "#     (1) fills in the missing tags\n",
    "#     (2) separate the sentences\n",
    "#     (3) outputs a new file named 'all.txt'\n",
    "\n",
    "import sys; sys.path.insert(0, '../..')\n",
    "from tqdm import tqdm\n",
    "\n",
    "import random\n",
    "pseudo_docs = []\n",
    "original_bio_path = 'enp_NL.kb.bio'\n",
    "f = open(original_bio_path, 'r')\n",
    "output_path = 'all.txt'\n",
    "w = open(output_path, 'w')\n",
    "count = 0\n",
    "num_sents = 0\n",
    "miscs = ['italiaansche', 'italie', 'engelsche', 'frankrijk', 'duitschlands']\n",
    "locs = ['eindhoven', 'amsterdam']\n",
    "for l in f:\n",
    "    parts = l[:-1].split(' ')\n",
    "    first = parts[0].replace(\"'\", \"\").replace('\"', '').replace('*', '').replace('^', '')\n",
    "    first = first.replace('!?', '').replace('°', '').replace('«.', '').replace('\\&', '')\n",
    "    first = first.replace('«', '').replace('->', '')\n",
    "    second = parts[1]\n",
    "    if len(first) > 0 and len(second) > 0:\n",
    "        count += 1\n",
    "        if first.lower() in miscs:\n",
    "            if second == 'O':\n",
    "                second = 'I-MISC'\n",
    "            elif '-' in second:\n",
    "                second = second[0:2] + 'MISC'\n",
    "            else:\n",
    "                second = 'I-MISC'\n",
    "        elif first.lower() in locs:\n",
    "            if second == 'O':\n",
    "                second = 'I-LOC'\n",
    "            elif '-' in second:\n",
    "                second = second[0:2] + 'LOC'\n",
    "            else:\n",
    "                second = 'I-LOC'\n",
    "        \n",
    "        w.write(first + ' ' + second + '\\n')\n",
    "        if (first == '.' or first == '?' or first == '!') and second == 'O':\n",
    "            num_sents += 1\n",
    "            w.write('\\n')\n",
    "        \n",
    "\n",
    "f.close()\n",
    "w.close()\n",
    "print(f'{count} lines written')\n",
    "print(f'{num_sents} sentences delineated')"
   ]
  },
  {
   "cell_type": "code",
   "execution_count": 13,
   "metadata": {},
   "outputs": [
    {
     "name": "stderr",
     "output_type": "stream",
     "text": [
      "184222it [00:00, 1900852.10it/s]\n",
      "2005it [00:00, 57248.53it/s]\n"
     ]
    }
   ],
   "source": [
    "# separate train.txt (70%) and test.txt (30%)\n",
    "from tqdm import tqdm\n",
    "import random\n",
    "f = open('all.txt', 'r')\n",
    "num_train = int(num_sents * 0.7)\n",
    "sents = []\n",
    "sent = []\n",
    "for i, l in tqdm(enumerate(f)):\n",
    "    if l == '\\n':\n",
    "        sents.append(sent.copy())\n",
    "        sent = []\n",
    "    else:\n",
    "        sent.append(l)\n",
    "        \n",
    "random.shuffle(sents)\n",
    "wtrain = open('train.txt', 'w')\n",
    "wtest = open('test.txt', 'w')\n",
    "for i, s in tqdm(enumerate(sents)):\n",
    "    if i < num_train:\n",
    "        w = wtrain\n",
    "    else:\n",
    "        w = wtest\n",
    "    \n",
    "    for t in s:\n",
    "        w.write(t)\n",
    "    w.write('\\n')\n",
    "    \n",
    "wtrain.close()\n",
    "wtest.close()\n",
    "f.close()"
   ]
  },
  {
   "cell_type": "code",
   "execution_count": null,
   "metadata": {},
   "outputs": [],
   "source": []
  },
  {
   "cell_type": "code",
   "execution_count": null,
   "metadata": {},
   "outputs": [],
   "source": []
  }
 ],
 "metadata": {
  "kernelspec": {
   "display_name": "q-seg-venv",
   "language": "python",
   "name": "q-seg-venv"
  },
  "language_info": {
   "codemirror_mode": {
    "name": "ipython",
    "version": 3
   },
   "file_extension": ".py",
   "mimetype": "text/x-python",
   "name": "python",
   "nbconvert_exporter": "python",
   "pygments_lexer": "ipython3",
   "version": "3.7.3"
  }
 },
 "nbformat": 4,
 "nbformat_minor": 4
}
