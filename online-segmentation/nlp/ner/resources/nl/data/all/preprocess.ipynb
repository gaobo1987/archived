{
 "cells": [
  {
   "cell_type": "code",
   "execution_count": 8,
   "metadata": {},
   "outputs": [
    {
     "name": "stdout",
     "output_type": "stream",
     "text": [
      "/home/bo/workspace/query-segmentation/qsegmt/nl/data\n",
      "writing  demorgen2000  training set\n",
      "writing  parliamentary  training set\n",
      "writing  europeananews  training set\n",
      "writing  wikiner  training set\n",
      "writing  meantimenews  training set\n"
     ]
    }
   ],
   "source": [
    "# This script combines all the dutch training/testing datasets into one training/testing dataset\n",
    "import os\n",
    "from os.path import dirname, abspath\n",
    "\n",
    "parent_dir = dirname(abspath(os.getcwd()))\n",
    "datasets = os.listdir(parent_dir)\n",
    "print(parent_dir)\n",
    "\n",
    "\n",
    "w = open(os.path.join(os.getcwd(), 'train.txt'), 'w')\n",
    "for d in datasets:\n",
    "    if d != 'all':\n",
    "        print('writing ', d, ' training set')\n",
    "        w.write('\\n')\n",
    "        f = open(os.path.join(parent_dir, d, 'train.txt'), 'r')\n",
    "        for l in f:\n",
    "            w.write(l)\n",
    "        f.close()\n",
    "        \n",
    "        \n",
    "w.close()"
   ]
  },
  {
   "cell_type": "code",
   "execution_count": 9,
   "metadata": {},
   "outputs": [
    {
     "name": "stdout",
     "output_type": "stream",
     "text": [
      "writing  demorgen2000  testing set\n",
      "writing  parliamentary  testing set\n",
      "writing  europeananews  testing set\n",
      "writing  wikiner  testing set\n",
      "writing  meantimenews  testing set\n"
     ]
    }
   ],
   "source": [
    "w = open(os.path.join(os.getcwd(), 'test.txt'), 'w')\n",
    "for d in datasets:\n",
    "    if d != 'all':\n",
    "        print('writing ', d, ' testing set')\n",
    "        w.write('\\n')\n",
    "        f = open(os.path.join(parent_dir, d, 'test.txt'), 'r')\n",
    "        for l in f:\n",
    "            w.write(l)\n",
    "        f.close()\n",
    "        \n",
    "        \n",
    "w.close()"
   ]
  },
  {
   "cell_type": "code",
   "execution_count": 13,
   "metadata": {},
   "outputs": [
    {
     "name": "stdout",
     "output_type": "stream",
     "text": [
      "including  demorgen2000  labels set\n",
      "including  parliamentary  labels set\n",
      "including  europeananews  labels set\n",
      "including  wikiner  labels set\n",
      "including  meantimenews  labels set\n"
     ]
    }
   ],
   "source": [
    "w = open(os.path.join(os.getcwd(), 'labels.txt'), 'w')\n",
    "labels = set()\n",
    "for d in datasets:\n",
    "    if d != 'all':\n",
    "        print('including ', d, ' labels set')\n",
    "        f = open(os.path.join(parent_dir, d, 'labels.txt'), 'r')\n",
    "        for l in f:\n",
    "            labels.add(l.replace('\\n', ''))\n",
    "        f.close()\n",
    "        \n",
    "for l in list(labels):\n",
    "    w.write(l + '\\n')\n",
    "w.close()"
   ]
  },
  {
   "cell_type": "code",
   "execution_count": null,
   "metadata": {},
   "outputs": [],
   "source": []
  }
 ],
 "metadata": {
  "kernelspec": {
   "display_name": "q-seg-venv",
   "language": "python",
   "name": "q-seg-venv"
  },
  "language_info": {
   "codemirror_mode": {
    "name": "ipython",
    "version": 3
   },
   "file_extension": ".py",
   "mimetype": "text/x-python",
   "name": "python",
   "nbconvert_exporter": "python",
   "pygments_lexer": "ipython3",
   "version": "3.7.3"
  }
 },
 "nbformat": 4,
 "nbformat_minor": 4
}
