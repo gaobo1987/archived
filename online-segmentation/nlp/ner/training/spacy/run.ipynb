{
 "cells": [
  {
   "cell_type": "code",
   "execution_count": 1,
   "metadata": {},
   "outputs": [
    {
     "name": "stdout",
     "output_type": "stream",
     "text": [
      "device:  cuda\n",
      "data path:  /home/bo/workspace/online-segmentation/ner/evaluation/nl/data/all/train.txt\n",
      "output model path:  /home/bo/workspace/online-segmentation/ner/training/spacy/output\n",
      "num epochs:  100\n"
     ]
    }
   ],
   "source": [
    "import os\n",
    "import spacy\n",
    "import random\n",
    "from params import DATA_PATH, LANG, NUM_EPOCHS, OUTPUT_MODEL_PATH, OUTPUT_JSON_PATH, DEVICE\n",
    "from utils import convert_iob_to_json, convert_iob_json_objects_to_spacy_tuples, train\n",
    "print('device: ', DEVICE)\n",
    "print('data path: ', DATA_PATH)\n",
    "print('output model path: ', OUTPUT_MODEL_PATH)\n",
    "print('num epochs: ', NUM_EPOCHS)"
   ]
  },
  {
   "cell_type": "code",
   "execution_count": 2,
   "metadata": {},
   "outputs": [
    {
     "name": "stderr",
     "output_type": "stream",
     "text": [
      "433k lines [00:00, 1.08M lines/s]"
     ]
    },
    {
     "name": "stdout",
     "output_type": "stream",
     "text": [
      "found empty sentence\n",
      "found empty sentence\n",
      "found empty sentence\n"
     ]
    },
    {
     "name": "stderr",
     "output_type": "stream",
     "text": [
      "3.36M lines [00:03, 1.06M lines/s]\n"
     ]
    }
   ],
   "source": [
    "json = convert_iob_to_json(DATA_PATH)"
   ]
  },
  {
   "cell_type": "code",
   "execution_count": 3,
   "metadata": {},
   "outputs": [
    {
     "name": "stderr",
     "output_type": "stream",
     "text": [
      "100%|██████████| 167k/167k [00:00<00:00, 291k items/s] \n"
     ]
    }
   ],
   "source": [
    "train_data = convert_iob_json_objects_to_spacy_tuples(json)"
   ]
  },
  {
   "cell_type": "code",
   "execution_count": 4,
   "metadata": {},
   "outputs": [],
   "source": [
    "# train spacy ner model from blank\n",
    "# train(train_data, model=None, output_dir=OUTPUT_MODEL_PATH, n_iter=NUM_EPOCHS, lang=LANG)"
   ]
  },
  {
   "cell_type": "code",
   "execution_count": null,
   "metadata": {},
   "outputs": [],
   "source": [
    "# train spacy ner model from the existing default model, in other words, fine-tune it\n",
    "default_model_path = os.path.abspath(os.path.join('..', '..', 'evaluation', 'nl', 'models', 'spacy_default'))\n",
    "train(train_data, model=OUTPUT_MODEL_PATH, output_dir=OUTPUT_MODEL_PATH, n_iter=NUM_EPOCHS, lang=LANG)"
   ]
  },
  {
   "cell_type": "code",
   "execution_count": null,
   "metadata": {},
   "outputs": [],
   "source": []
  },
  {
   "cell_type": "code",
   "execution_count": 6,
   "metadata": {},
   "outputs": [
    {
     "name": "stdout",
     "output_type": "stream",
     "text": [
      "Loading from /home/bo/workspace/online-segmentation/ner/training/spacy/model\n",
      "['ner']\n",
      "Entities [('Bijbel', 'MISC'), ('Matteüs', 'MISC')]\n",
      "Entities [('Marcus', 'PER'), ('Aurelius', 'PER')]\n",
      "Entities [('Rijkswaterstaat', 'ORG'), ('Almelo', 'LOC')]\n",
      "Entities [('Den', 'LOC'), ('Helder', 'LOC'), ('Den', 'LOC'), ('Helder', 'LOC')]\n",
      "Entities [('Canada', 'LOC'), ('Griekenland', 'LOC'), ('Turkije', 'LOC'), ('Thailand', 'LOC'), ('Nederland', 'LOC')]\n",
      "Entities [('Pluto', 'LOC')]\n",
      "Entities [('Zuidland', 'LOC'), ('Spijkenisse', 'LOC')]\n",
      "Entities [('James', 'PER'), ('Naismith', 'PER'), ('Young', 'MISC'), (\"Men's\", 'ORG'), ('Christian', 'ORG'), ('Association', 'ORG'), ('YMCA', 'ORG'), ('Springfield', 'LOC')]\n",
      "Entities [('Zijderoute', 'LOC'), ('Europa', 'LOC')]\n"
     ]
    }
   ],
   "source": [
    "# test the saved model\n",
    "output_dir=default_model_path\n",
    "print(\"Loading from\", output_dir)\n",
    "nlp2 = spacy.load(output_dir)\n",
    "print(nlp2.pipe_names)\n",
    "for text, _ in train_data[:10]:\n",
    "    doc = nlp2(text)\n",
    "    if len(doc.ents) > 0:\n",
    "        print(\"Entities\", [(ent.text, ent.label_) for ent in doc.ents])\n",
    "#         print(\"Tokens\", [(t.text, t.ent_type_, t.ent_iob_) for t in doc])"
   ]
  },
  {
   "cell_type": "code",
   "execution_count": null,
   "metadata": {},
   "outputs": [],
   "source": [
    "          "
   ]
  },
  {
   "cell_type": "code",
   "execution_count": null,
   "metadata": {},
   "outputs": [],
   "source": []
  },
  {
   "cell_type": "code",
   "execution_count": null,
   "metadata": {},
   "outputs": [],
   "source": []
  },
  {
   "cell_type": "code",
   "execution_count": null,
   "metadata": {},
   "outputs": [],
   "source": []
  },
  {
   "cell_type": "code",
   "execution_count": null,
   "metadata": {},
   "outputs": [],
   "source": []
  },
  {
   "cell_type": "code",
   "execution_count": null,
   "metadata": {},
   "outputs": [],
   "source": []
  },
  {
   "cell_type": "code",
   "execution_count": null,
   "metadata": {},
   "outputs": [],
   "source": []
  },
  {
   "cell_type": "code",
   "execution_count": null,
   "metadata": {},
   "outputs": [],
   "source": []
  },
  {
   "cell_type": "code",
   "execution_count": null,
   "metadata": {},
   "outputs": [],
   "source": []
  },
  {
   "cell_type": "code",
   "execution_count": null,
   "metadata": {},
   "outputs": [],
   "source": []
  }
 ],
 "metadata": {
  "kernelspec": {
   "display_name": "Python 3",
   "language": "python",
   "name": "python3"
  },
  "language_info": {
   "codemirror_mode": {
    "name": "ipython",
    "version": 3
   },
   "file_extension": ".py",
   "mimetype": "text/x-python",
   "name": "python",
   "nbconvert_exporter": "python",
   "pygments_lexer": "ipython3",
   "version": "3.7.3"
  }
 },
 "nbformat": 4,
 "nbformat_minor": 4
}
