{
 "cells": [
  {
   "cell_type": "code",
   "execution_count": 1,
   "metadata": {},
   "outputs": [
    {
     "name": "stdout",
     "output_type": "stream",
     "text": [
      "========== BERT model ==========\n",
      "model_path:  /home/bo/workspace/online-segmentation/qsegmt/nl/models/bert_base_dutch_cased_ft\n",
      "tokenizer_args:  {'do_lower_case': False, 'strip_accents': True, 'keep_accents': False, 'use_fast': False}\n",
      "entity_labels:  ['B-PER', 'B-ORG', 'I-ORG', 'B-LOC', 'O', 'I-LOC', 'I-PER', 'B-MISC', 'I-MISC']\n",
      "bert_type:  bert\n",
      "num_epochs:  1\n",
      "batch_size:  32\n",
      "max_seq_length:  128\n",
      "device:  cuda\n"
     ]
    }
   ],
   "source": [
    "######################## NL segmentation ########################\n",
    "import json\n",
    "from qsegmt.nl import NLSegmenter\n",
    "segmenter = NLSegmenter()"
   ]
  },
  {
   "cell_type": "code",
   "execution_count": 2,
   "metadata": {},
   "outputs": [
    {
     "data": {
      "text/plain": [
       "[{'item': 'Koning',\n",
       "  'lemma': 'koning',\n",
       "  'pos': 'NOUN',\n",
       "  'startOffSet': 0,\n",
       "  'endOffSet': 6,\n",
       "  'ner': 'I-PER',\n",
       "  'isMinimumToken': True,\n",
       "  'isStopWord': False},\n",
       " {'item': 'Willem',\n",
       "  'lemma': 'willem',\n",
       "  'pos': 'NOUN',\n",
       "  'startOffSet': 7,\n",
       "  'endOffSet': 13,\n",
       "  'ner': 'I-PER',\n",
       "  'isMinimumToken': True,\n",
       "  'isStopWord': False},\n",
       " {'item': 'heeft',\n",
       "  'lemma': 'hebben',\n",
       "  'pos': 'VERB',\n",
       "  'startOffSet': 14,\n",
       "  'endOffSet': 19,\n",
       "  'ner': 'O',\n",
       "  'isMinimumToken': True,\n",
       "  'isStopWord': True},\n",
       " {'item': 'het',\n",
       "  'lemma': 'het',\n",
       "  'pos': 'DET',\n",
       "  'startOffSet': 20,\n",
       "  'endOffSet': 23,\n",
       "  'ner': 'O',\n",
       "  'isMinimumToken': True,\n",
       "  'isStopWord': True},\n",
       " {'item': 'Rijksmuseum',\n",
       "  'lemma': 'rijksmuseum',\n",
       "  'pos': 'NOUN',\n",
       "  'startOffSet': 24,\n",
       "  'endOffSet': 35,\n",
       "  'ner': 'I-LOC',\n",
       "  'isMinimumToken': True,\n",
       "  'isStopWord': False},\n",
       " {'item': 'bezocht',\n",
       "  'lemma': 'bezoeken',\n",
       "  'pos': 'VERB',\n",
       "  'startOffSet': 36,\n",
       "  'endOffSet': 43,\n",
       "  'ner': 'O',\n",
       "  'isMinimumToken': True,\n",
       "  'isStopWord': False},\n",
       " {'item': '.',\n",
       "  'lemma': '.',\n",
       "  'pos': 'PUNCT',\n",
       "  'startOffSet': 43,\n",
       "  'endOffSet': 44,\n",
       "  'ner': 'O',\n",
       "  'isMinimumToken': True,\n",
       "  'isStopWord': False},\n",
       " {'item': 'Koning Willem',\n",
       "  'lemma': None,\n",
       "  'pos': None,\n",
       "  'startOffSet': 0,\n",
       "  'endOffSet': 13,\n",
       "  'ner': 'PER',\n",
       "  'isMinimumToken': False,\n",
       "  'isStopWord': False}]"
      ]
     },
     "execution_count": 2,
     "metadata": {},
     "output_type": "execute_result"
    }
   ],
   "source": [
    "s = 'Waar is Amsterdam UMC?'\n",
    "s = 'Koning Willem heeft het Rijksmuseum bezocht.'\n",
    "output = segmenter.segment(s)\n",
    "json.loads(output)"
   ]
  },
  {
   "cell_type": "code",
   "execution_count": 1,
   "metadata": {},
   "outputs": [],
   "source": [
    "######################## EL segmentation ########################\n",
    "import json\n",
    "from qsegmt.el import ELSegmenter\n",
    "seg = ELSegmenter()"
   ]
  },
  {
   "cell_type": "code",
   "execution_count": 3,
   "metadata": {},
   "outputs": [
    {
     "data": {
      "text/plain": [
       "[{'item': 'Η',\n",
       "  'lemma': 'η',\n",
       "  'pos': 'DET',\n",
       "  'startOffSet': 0,\n",
       "  'endOffSet': 1,\n",
       "  'ner': '',\n",
       "  'isMinimumToken': True,\n",
       "  'isStopWord': True},\n",
       " {'item': 'Αθήνα',\n",
       "  'lemma': 'Αθήνα',\n",
       "  'pos': 'PROPN',\n",
       "  'startOffSet': 2,\n",
       "  'endOffSet': 7,\n",
       "  'ner': [{'ner': 'GPE'}],\n",
       "  'isMinimumToken': True,\n",
       "  'isStopWord': False},\n",
       " {'item': 'είναι',\n",
       "  'lemma': 'είναι',\n",
       "  'pos': 'AUX',\n",
       "  'startOffSet': 8,\n",
       "  'endOffSet': 13,\n",
       "  'ner': '',\n",
       "  'isMinimumToken': True,\n",
       "  'isStopWord': True},\n",
       " {'item': 'ένα',\n",
       "  'lemma': 'ένα',\n",
       "  'pos': 'DET',\n",
       "  'startOffSet': 14,\n",
       "  'endOffSet': 17,\n",
       "  'ner': '',\n",
       "  'isMinimumToken': True,\n",
       "  'isStopWord': True},\n",
       " {'item': 'όμορφο',\n",
       "  'lemma': 'όμορφο',\n",
       "  'pos': 'NOUN',\n",
       "  'startOffSet': 18,\n",
       "  'endOffSet': 24,\n",
       "  'ner': '',\n",
       "  'isMinimumToken': True,\n",
       "  'isStopWord': False},\n",
       " {'item': 'μέρος',\n",
       "  'lemma': 'μέρος',\n",
       "  'pos': 'NOUN',\n",
       "  'startOffSet': 25,\n",
       "  'endOffSet': 30,\n",
       "  'ner': '',\n",
       "  'isMinimumToken': True,\n",
       "  'isStopWord': False},\n",
       " {'item': '.',\n",
       "  'lemma': '.',\n",
       "  'pos': 'PUNCT',\n",
       "  'startOffSet': 30,\n",
       "  'endOffSet': 31,\n",
       "  'ner': '',\n",
       "  'isMinimumToken': True,\n",
       "  'isStopWord': False}]"
      ]
     },
     "execution_count": 3,
     "metadata": {},
     "output_type": "execute_result"
    }
   ],
   "source": [
    "s = 'Η Αθήνα είναι ένα όμορφο μέρος.' #Athens is a beautiful place.\n",
    "json.loads(seg.segment(s))"
   ]
  },
  {
   "cell_type": "code",
   "execution_count": null,
   "metadata": {},
   "outputs": [],
   "source": []
  },
  {
   "cell_type": "code",
   "execution_count": null,
   "metadata": {},
   "outputs": [],
   "source": []
  },
  {
   "cell_type": "code",
   "execution_count": null,
   "metadata": {},
   "outputs": [],
   "source": []
  },
  {
   "cell_type": "code",
   "execution_count": null,
   "metadata": {},
   "outputs": [],
   "source": []
  }
 ],
 "metadata": {
  "kernelspec": {
   "display_name": "Python 3",
   "language": "python",
   "name": "python3"
  },
  "language_info": {
   "codemirror_mode": {
    "name": "ipython",
    "version": 3
   },
   "file_extension": ".py",
   "mimetype": "text/x-python",
   "name": "python",
   "nbconvert_exporter": "python",
   "pygments_lexer": "ipython3",
   "version": "3.7.3"
  }
 },
 "nbformat": 4,
 "nbformat_minor": 4
}
