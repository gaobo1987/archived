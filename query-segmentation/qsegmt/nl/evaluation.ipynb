{
 "cells": [
  {
   "cell_type": "code",
   "execution_count": 23,
   "metadata": {},
   "outputs": [
    {
     "name": "stdout",
     "output_type": "stream",
     "text": [
      "device:  cuda\n"
     ]
    },
    {
     "name": "stderr",
     "output_type": "stream",
     "text": [
      "2020-05-08 10:50:36 INFO: Loading these models for language: nl (Dutch):\n",
      "=======================\n",
      "| Processor | Package |\n",
      "-----------------------\n",
      "| tokenize  | alpino  |\n",
      "| pos       | alpino  |\n",
      "| lemma     | alpino  |\n",
      "| depparse  | alpino  |\n",
      "| ner       | conll02 |\n",
      "=======================\n",
      "\n",
      "2020-05-08 10:50:36 INFO: Use device: gpu\n",
      "2020-05-08 10:50:36 INFO: Loading: tokenize\n",
      "2020-05-08 10:50:36 INFO: Loading: pos\n",
      "2020-05-08 10:50:36 INFO: Loading: lemma\n",
      "2020-05-08 10:50:36 INFO: Loading: depparse\n",
      "2020-05-08 10:50:37 INFO: Loading: ner\n",
      "2020-05-08 10:50:38 INFO: Done loading processors!\n"
     ]
    }
   ],
   "source": [
    "import sys; sys.path.insert(0, '../..')\n",
    "import spacy\n",
    "import stanza\n",
    "from params import SPACY_MODEL_PATH, BERT_MODEL_PATH, DEVICE\n",
    "from utils import init_model, bert_ner\n",
    "\n",
    "print('device: ', DEVICE)\n",
    "# load the spaCy dutch nlp model\n",
    "spacy_model = spacy.load(SPACY_MODEL_PATH)\n",
    "# load the stanza dutch nlp model\n",
    "stanza_model = stanza.Pipeline(lang='nl')\n",
    "# load the bert dutch ner model\n",
    "bert_model, bert_tokenizer, _ = init_model(BERT_MODEL_PATH)\n"
   ]
  },
  {
   "cell_type": "code",
   "execution_count": 24,
   "metadata": {},
   "outputs": [],
   "source": [
    "def convert_spacy_tags_to_standards(spacy_tags):\n",
    "    output = []\n",
    "    miscs = ['NORP', 'FAC', 'PRODUCT', 'EVENT', 'WORK_OF_ART', 'LAW', \n",
    "             'LANGUAGE', 'DATE', 'TIME', 'PERCENT', 'MONEY', \n",
    "             'QUANTITY', 'ORDINAL', 'CARDINAL']\n",
    "    miscs.remove('QUANTITY')\n",
    "    miscs.remove('ORDINAL')\n",
    "    miscs.remove('CARDINAL')\n",
    "    miscs.remove('MONEY')\n",
    "    miscs.remove('PERCENT')\n",
    "    miscs.remove('DATE')\n",
    "    miscs.remove('TIME')\n",
    "    for iob, etype in spacy_tags:\n",
    "        if iob == 'O':\n",
    "            output.append(iob)\n",
    "        else:\n",
    "            if etype == 'PERSON':\n",
    "                output.append(iob + '-PER')\n",
    "            elif etype == 'ORG':\n",
    "                output.append(iob + '-ORG')\n",
    "            elif etype in ['GPE', 'LOC']:\n",
    "                output.append(iob + '-LOC')\n",
    "            elif etype in miscs:\n",
    "                output.append(iob + '-MISC')\n",
    "            else:\n",
    "                output.append('O')\n",
    "            \n",
    "    return output\n",
    "    \n",
    "    \n",
    "\n",
    "# for the tags that spacy can detect:\n",
    "# https://spacy.io/api/annotation#named-entities\n",
    "def spacy_ner(input_string):\n",
    "    doc = spacy_model(input_string)\n",
    "    tags = [(token.ent_iob_, token.ent_type_) for token in doc]\n",
    "    output = convert_spacy_tags_to_standards(tags)\n",
    "    return output\n",
    "\n",
    "\n",
    "\n",
    "def stanza_ner(input_string): \n",
    "    doc = stanza_model(input_string)\n",
    "    output = []\n",
    "    for sent in doc.sentences:\n",
    "        for token in sent.tokens:\n",
    "            ner = token.ner\n",
    "            if ner == 'O':\n",
    "                output.append(ner)\n",
    "            else:\n",
    "                if ner[0:2] == 'E-':\n",
    "                    output.append('I-'+ner[2:])\n",
    "                elif ner[0:2] == 'S-':\n",
    "                    output.append('B-'+ner[2:])\n",
    "                else:\n",
    "                    output.append(ner)\n",
    "\n",
    "    return output\n",
    "    \n",
    "\n",
    "def bert_ner_(words):\n",
    "    placeholder_labels = ['O' for _ in words]\n",
    "    output = bert_ner(bert_model, bert_tokenizer, words, placeholder_labels)\n",
    "    return output"
   ]
  },
  {
   "cell_type": "code",
   "execution_count": 25,
   "metadata": {},
   "outputs": [
    {
     "name": "stdout",
     "output_type": "stream",
     "text": [
      "spacy predictions (4):  ['O', 'O', 'B-MISC', 'O']\n",
      "bert predictions (4):  ['O', 'O', 'I-MISC', 'O']\n",
      "stanza predictions (4):  ['O', 'O', 'B-MISC', 'O']\n"
     ]
    }
   ],
   "source": [
    "s = 'Waar is Amsterdam UMC?'\n",
    "s = \"Dat is in Italië , Spanje of Engeland misschien geen probleem , maar volgens ' Der Kaiser ' in Duitsland wel .\"\n",
    "s = 'De Europese Centrale Bank verhoogde gisteren haar centraal ...'\n",
    "s = 'Vandaag is het haar 46e verjaardag.'\n",
    "s = 'Er zijn 1 eend en 2 honden.'\n",
    "s = 'Het is de vierde keer dat hij 200 euro verloor, met 15% rente, op 26 Juli.'\n",
    "s = 'Hij spreekt Engels.'\n",
    "spacy_preds = spacy_ner(s)\n",
    "print(f'spacy predictions ({len(spacy_preds)}): ', spacy_preds)\n",
    "doc = spacy_model(s)\n",
    "words = [t.text for t in doc]\n",
    "bert_preds = bert_ner_(words)\n",
    "print(f'bert predictions ({len(bert_preds)}): ', bert_preds)\n",
    "stanza_preds = stanza_ner(s)\n",
    "print(f'stanza predictions ({len(stanza_preds)}): ', stanza_preds)\n"
   ]
  },
  {
   "cell_type": "code",
   "execution_count": 26,
   "metadata": {},
   "outputs": [],
   "source": [
    "import re\n",
    "import time\n",
    "from tqdm import tqdm\n",
    "from ner.evaluation.ner_evaluation.ner_eval import Evaluator\n",
    "# from seqeval.metrics import f1_score, precision_score, recall_score\n",
    "\n",
    "\n",
    "\n",
    "# preprae datasets for evaluation\n",
    "def prepare_data(data_path):\n",
    "    f = open(data_path, 'r')\n",
    "    pairs = []\n",
    "    words = []\n",
    "    tags = []\n",
    "    for l in f:\n",
    "        if '-DOCSTART' in l:\n",
    "            pass\n",
    "        else:\n",
    "            l = l.replace('\\n', '')\n",
    "            l = re.sub(' +', ' ', l)\n",
    "            if l == '':\n",
    "                assert len(words) == len(tags)\n",
    "                pairs.append((words.copy(), tags.copy())) \n",
    "                words = []\n",
    "                tags = []\n",
    "            else:\n",
    "                parts = l.split(' ')\n",
    "                words.append(parts[0])\n",
    "                tags.append(parts[1])\n",
    "\n",
    "    return pairs    \n",
    "   \n",
    "\n",
    "def ner_eval(true, pred, labels=['LOC', 'MISC', 'PER', 'ORG']):\n",
    "    evaluator = Evaluator(true, pred, labels)\n",
    "    results, results_agg = evaluator.evaluate()\n",
    "    for k in results:\n",
    "        p = results[k]['precision']\n",
    "        r = results[k]['recall']\n",
    "        f1 = 2*(p*r)/(p+r) if (p+r)>0 else 0\n",
    "        results[k]['f1'] = f1\n",
    "    \n",
    "    for label in results_agg:\n",
    "        for k in results_agg[label]:\n",
    "            p = results_agg[label][k]['precision']\n",
    "            r = results_agg[label][k]['recall']\n",
    "            f1 = 2*(p*r)/(p+r) if (p+r)>0 else 0\n",
    "            results_agg[label][k]['f1'] = f1\n",
    "    \n",
    "    return results, results_agg\n",
    "\n",
    "\n",
    "\n",
    "# mode = 'bert' | 'spacy' | 'stanza'\n",
    "def evaluate(data_path, mode='bert'):\n",
    "    ms_per_sent = []\n",
    "    num_words_per_sent = []\n",
    "    ner_func = bert_ner_\n",
    "    if mode == 'spacy':\n",
    "        ner_func = spacy_ner\n",
    "    elif mode == 'stanza':\n",
    "        ner_func = stanza_ner\n",
    "    pairs = prepare_data(data_path)\n",
    "    preds = []\n",
    "    tags = []\n",
    "    for pair in tqdm(pairs):\n",
    "        sent_words = pair[0]\n",
    "        sent_tags = pair[1]\n",
    "        num_words_per_sent.append(len(sent_words))\n",
    "        if mode != 'bert':\n",
    "            sent = ''\n",
    "            for w in sent_words:\n",
    "                sent += w + ' '\n",
    "            sent = sent.rstrip()\n",
    "            sent_words = sent\n",
    "        \n",
    "        start_ms = int(round(time.time() * 1000))\n",
    "        sent_preds = ner_func(sent_words)\n",
    "        end_ms = int(round(time.time() * 1000))\n",
    "        ms_per_sent.append(end_ms - start_ms)\n",
    "        \n",
    "        if len(sent_preds) == len(sent_tags):\n",
    "            pass\n",
    "        elif len(sent_preds) > len(sent_tags):\n",
    "            diff = len(sent_preds) - len(sent_tags)\n",
    "            sent_preds = sent_preds[:-diff]\n",
    "        elif len(sent_tags) > len(sent_preds):\n",
    "            diff = len(sent_tags) - len(sent_preds)\n",
    "            sent_tags = sent_tags[:-diff]\n",
    "            \n",
    "        assert len(sent_preds) == len(sent_tags)\n",
    "\n",
    "        preds.append(sent_preds)\n",
    "        tags.append(sent_tags)\n",
    "\n",
    "    labels = ['LOC', 'MISC', 'PER', 'ORG']\n",
    "    results, results_agg = ner_eval(tags, preds, labels)    \n",
    "    output = {\n",
    "        'mode': mode,\n",
    "        'data': data_path,\n",
    "        'avg_ms_per_sent': sum(ms_per_sent) / len(ms_per_sent),\n",
    "        'avg_num_words_per_sent': sum(num_words_per_sent) / len(num_words_per_sent)\n",
    "    }\n",
    "    output.update(results)\n",
    "    output.update(results_agg)\n",
    "    \n",
    "    return output"
   ]
  },
  {
   "cell_type": "code",
   "execution_count": 5,
   "metadata": {},
   "outputs": [
    {
     "name": "stderr",
     "output_type": "stream",
     "text": [
      "100%|██████████| 241/241 [00:02<00:00, 85.34it/s]\n"
     ]
    },
    {
     "data": {
      "text/plain": [
       "{'mode': 'bert',\n",
       " 'data': 'data/demorgen2000/mini.txt',\n",
       " 'avg_ms_per_sent': 11.639004149377593,\n",
       " 'avg_num_words_per_sent': 11.551867219917012,\n",
       " 'ent_type': {'correct': 149,\n",
       "  'incorrect': 13,\n",
       "  'partial': 0,\n",
       "  'missed': 5,\n",
       "  'spurious': 7,\n",
       "  'possible': 167,\n",
       "  'actual': 169,\n",
       "  'precision': 0.8816568047337278,\n",
       "  'recall': 0.8922155688622755,\n",
       "  'f1': 0.8869047619047618},\n",
       " 'partial': {'correct': 161,\n",
       "  'incorrect': 0,\n",
       "  'partial': 1,\n",
       "  'missed': 5,\n",
       "  'spurious': 7,\n",
       "  'possible': 167,\n",
       "  'actual': 169,\n",
       "  'precision': 0.9556213017751479,\n",
       "  'recall': 0.9670658682634731,\n",
       "  'f1': 0.9613095238095238},\n",
       " 'strict': {'correct': 148,\n",
       "  'incorrect': 14,\n",
       "  'partial': 0,\n",
       "  'missed': 5,\n",
       "  'spurious': 7,\n",
       "  'possible': 167,\n",
       "  'actual': 169,\n",
       "  'precision': 0.8757396449704142,\n",
       "  'recall': 0.8862275449101796,\n",
       "  'f1': 0.880952380952381},\n",
       " 'exact': {'correct': 161,\n",
       "  'incorrect': 1,\n",
       "  'partial': 0,\n",
       "  'missed': 5,\n",
       "  'spurious': 7,\n",
       "  'possible': 167,\n",
       "  'actual': 169,\n",
       "  'precision': 0.9526627218934911,\n",
       "  'recall': 0.9640718562874252,\n",
       "  'f1': 0.9583333333333333},\n",
       " 'LOC': {'ent_type': {'correct': 45,\n",
       "   'incorrect': 0,\n",
       "   'partial': 0,\n",
       "   'missed': 1,\n",
       "   'spurious': 7,\n",
       "   'possible': 46,\n",
       "   'actual': 52,\n",
       "   'precision': 0.8653846153846154,\n",
       "   'recall': 0.9782608695652174,\n",
       "   'f1': 0.9183673469387755},\n",
       "  'partial': {'correct': 45,\n",
       "   'incorrect': 0,\n",
       "   'partial': 0,\n",
       "   'missed': 1,\n",
       "   'spurious': 7,\n",
       "   'possible': 46,\n",
       "   'actual': 52,\n",
       "   'precision': 0.8653846153846154,\n",
       "   'recall': 0.9782608695652174,\n",
       "   'f1': 0.9183673469387755},\n",
       "  'strict': {'correct': 45,\n",
       "   'incorrect': 0,\n",
       "   'partial': 0,\n",
       "   'missed': 1,\n",
       "   'spurious': 7,\n",
       "   'possible': 46,\n",
       "   'actual': 52,\n",
       "   'precision': 0.8653846153846154,\n",
       "   'recall': 0.9782608695652174,\n",
       "   'f1': 0.9183673469387755},\n",
       "  'exact': {'correct': 45,\n",
       "   'incorrect': 0,\n",
       "   'partial': 0,\n",
       "   'missed': 1,\n",
       "   'spurious': 7,\n",
       "   'possible': 46,\n",
       "   'actual': 52,\n",
       "   'precision': 0.8653846153846154,\n",
       "   'recall': 0.9782608695652174,\n",
       "   'f1': 0.9183673469387755}},\n",
       " 'MISC': {'ent_type': {'correct': 28,\n",
       "   'incorrect': 12,\n",
       "   'partial': 0,\n",
       "   'missed': 3,\n",
       "   'spurious': 7,\n",
       "   'possible': 43,\n",
       "   'actual': 47,\n",
       "   'precision': 0.5957446808510638,\n",
       "   'recall': 0.6511627906976745,\n",
       "   'f1': 0.6222222222222222},\n",
       "  'partial': {'correct': 40,\n",
       "   'incorrect': 0,\n",
       "   'partial': 0,\n",
       "   'missed': 3,\n",
       "   'spurious': 7,\n",
       "   'possible': 43,\n",
       "   'actual': 47,\n",
       "   'precision': 0.851063829787234,\n",
       "   'recall': 0.9302325581395349,\n",
       "   'f1': 0.888888888888889},\n",
       "  'strict': {'correct': 28,\n",
       "   'incorrect': 12,\n",
       "   'partial': 0,\n",
       "   'missed': 3,\n",
       "   'spurious': 7,\n",
       "   'possible': 43,\n",
       "   'actual': 47,\n",
       "   'precision': 0.5957446808510638,\n",
       "   'recall': 0.6511627906976745,\n",
       "   'f1': 0.6222222222222222},\n",
       "  'exact': {'correct': 40,\n",
       "   'incorrect': 0,\n",
       "   'partial': 0,\n",
       "   'missed': 3,\n",
       "   'spurious': 7,\n",
       "   'possible': 43,\n",
       "   'actual': 47,\n",
       "   'precision': 0.851063829787234,\n",
       "   'recall': 0.9302325581395349,\n",
       "   'f1': 0.888888888888889}},\n",
       " 'PER': {'ent_type': {'correct': 36,\n",
       "   'incorrect': 0,\n",
       "   'partial': 0,\n",
       "   'missed': 0,\n",
       "   'spurious': 7,\n",
       "   'possible': 36,\n",
       "   'actual': 43,\n",
       "   'precision': 0.8372093023255814,\n",
       "   'recall': 1.0,\n",
       "   'f1': 0.9113924050632911},\n",
       "  'partial': {'correct': 36,\n",
       "   'incorrect': 0,\n",
       "   'partial': 0,\n",
       "   'missed': 0,\n",
       "   'spurious': 7,\n",
       "   'possible': 36,\n",
       "   'actual': 43,\n",
       "   'precision': 0.8372093023255814,\n",
       "   'recall': 1.0,\n",
       "   'f1': 0.9113924050632911},\n",
       "  'strict': {'correct': 36,\n",
       "   'incorrect': 0,\n",
       "   'partial': 0,\n",
       "   'missed': 0,\n",
       "   'spurious': 7,\n",
       "   'possible': 36,\n",
       "   'actual': 43,\n",
       "   'precision': 0.8372093023255814,\n",
       "   'recall': 1.0,\n",
       "   'f1': 0.9113924050632911},\n",
       "  'exact': {'correct': 36,\n",
       "   'incorrect': 0,\n",
       "   'partial': 0,\n",
       "   'missed': 0,\n",
       "   'spurious': 7,\n",
       "   'possible': 36,\n",
       "   'actual': 43,\n",
       "   'precision': 0.8372093023255814,\n",
       "   'recall': 1.0,\n",
       "   'f1': 0.9113924050632911}},\n",
       " 'ORG': {'ent_type': {'correct': 40,\n",
       "   'incorrect': 1,\n",
       "   'partial': 0,\n",
       "   'missed': 1,\n",
       "   'spurious': 7,\n",
       "   'possible': 42,\n",
       "   'actual': 48,\n",
       "   'precision': 0.8333333333333334,\n",
       "   'recall': 0.9523809523809523,\n",
       "   'f1': 0.888888888888889},\n",
       "  'partial': {'correct': 40,\n",
       "   'incorrect': 0,\n",
       "   'partial': 1,\n",
       "   'missed': 1,\n",
       "   'spurious': 7,\n",
       "   'possible': 42,\n",
       "   'actual': 48,\n",
       "   'precision': 0.84375,\n",
       "   'recall': 0.9642857142857143,\n",
       "   'f1': 0.8999999999999999},\n",
       "  'strict': {'correct': 39,\n",
       "   'incorrect': 2,\n",
       "   'partial': 0,\n",
       "   'missed': 1,\n",
       "   'spurious': 7,\n",
       "   'possible': 42,\n",
       "   'actual': 48,\n",
       "   'precision': 0.8125,\n",
       "   'recall': 0.9285714285714286,\n",
       "   'f1': 0.8666666666666666},\n",
       "  'exact': {'correct': 40,\n",
       "   'incorrect': 1,\n",
       "   'partial': 0,\n",
       "   'missed': 1,\n",
       "   'spurious': 7,\n",
       "   'possible': 42,\n",
       "   'actual': 48,\n",
       "   'precision': 0.8333333333333334,\n",
       "   'recall': 0.9523809523809523,\n",
       "   'f1': 0.888888888888889}}}"
      ]
     },
     "execution_count": 5,
     "metadata": {},
     "output_type": "execute_result"
    }
   ],
   "source": [
    "# =================== demorgen2000, mini ==============================================================\n",
    "# all bert model\n",
    "dataset = 'demorgen2000'\n",
    "subset = 'mini' # mini, dev, test, train\n",
    "evaluate(f'data/{dataset}/{subset}.txt', 'bert')"
   ]
  },
  {
   "cell_type": "code",
   "execution_count": 7,
   "metadata": {},
   "outputs": [
    {
     "name": "stderr",
     "output_type": "stream",
     "text": [
      "100%|██████████| 5195/5195 [01:02<00:00, 82.84it/s]\n"
     ]
    },
    {
     "data": {
      "text/plain": [
       "{'mode': 'bert',\n",
       " 'data': 'data/demorgen2000/test.txt',\n",
       " 'strict': {'f1': 0.8715148031043404,\n",
       "  'precision': 0.868021757801317,\n",
       "  'recall': 0.8750360750360751},\n",
       " 'exact': {'f1': 0.9473986777809715,\n",
       "  'precision': 0.943601488691669,\n",
       "  'recall': 0.9512265512265512},\n",
       " 'type': {'f1': 0.8792756539235412,\n",
       "  'precision': 0.875751503006012,\n",
       "  'recall': 0.8828282828282829},\n",
       " 'partial': {'f1': 0.9525725783271055,\n",
       "  'precision': 0.9487546521614658,\n",
       "  'recall': 0.9564213564213564},\n",
       " 'avg_ms_per_sent': 12.007314725697785,\n",
       " 'avg_num_words_per_sent': 13.257940327237728}"
      ]
     },
     "execution_count": 7,
     "metadata": {},
     "output_type": "execute_result"
    }
   ],
   "source": [
    "# =================== demorgen2000, test ==============================================================\n",
    "# all bert model\n",
    "dataset = 'demorgen2000'\n",
    "subset = 'test' # mini, dev, test, train\n",
    "evaluate(f'data/{dataset}/{subset}.txt', 'bert')"
   ]
  },
  {
   "cell_type": "code",
   "execution_count": 5,
   "metadata": {},
   "outputs": [
    {
     "name": "stderr",
     "output_type": "stream",
     "text": [
      "100%|██████████| 5195/5195 [01:04<00:00, 80.90it/s]\n"
     ]
    },
    {
     "data": {
      "text/plain": [
       "{'mode': 'bert',\n",
       " 'data': 'data/demorgen2000/test.txt',\n",
       " 'f1': 0.9042853477033617,\n",
       " 'precision': 0.896236012207528,\n",
       " 'recall': 0.9124805800103574,\n",
       " 'avg_ms_per_sent': 12.292974013474495,\n",
       " 'avg_num_words_per_sent': 13.257940327237728}"
      ]
     },
     "execution_count": 5,
     "metadata": {},
     "output_type": "execute_result"
    }
   ],
   "source": [
    "# demorgen2000 bert model\n",
    "dataset = 'demorgen2000'\n",
    "subset = 'test' # mini, dev, test, train\n",
    "evaluate(f'data/{dataset}/{subset}.txt', 'bert')"
   ]
  },
  {
   "cell_type": "code",
   "execution_count": 23,
   "metadata": {},
   "outputs": [
    {
     "name": "stderr",
     "output_type": "stream",
     "text": [
      "100%|██████████| 5195/5195 [01:04<00:00, 80.84it/s]\n"
     ]
    },
    {
     "data": {
      "text/plain": [
       "{'mode': 'bert',\n",
       " 'data': 'data/demorgen2000/test.txt',\n",
       " 'f1': 0.7248223474638569,\n",
       " 'precision': 0.687906976744186,\n",
       " 'recall': 0.7659243915069912,\n",
       " 'avg_ms_per_sent': 12.30567853705486,\n",
       " 'avg_num_words_per_sent': 13.257940327237728}"
      ]
     },
     "execution_count": 23,
     "metadata": {},
     "output_type": "execute_result"
    }
   ],
   "source": [
    "# wikiner bert model\n",
    "dataset = 'demorgen2000'\n",
    "subset = 'test' # mini, dev, test, train\n",
    "evaluate(f'data/{dataset}/{subset}.txt', 'bert')"
   ]
  },
  {
   "cell_type": "code",
   "execution_count": 7,
   "metadata": {},
   "outputs": [
    {
     "name": "stderr",
     "output_type": "stream",
     "text": [
      "100%|██████████| 5195/5195 [01:02<00:00, 82.70it/s]\n"
     ]
    },
    {
     "data": {
      "text/plain": [
       "{'mode': 'bert',\n",
       " 'data': 'data/demorgen2000/test.txt',\n",
       " 'f1': 0.07957153787299158,\n",
       " 'precision': 0.15226939970717424,\n",
       " 'recall': 0.05385810460901087,\n",
       " 'avg_ms_per_sent': 12.026564003849856,\n",
       " 'avg_num_words_per_sent': 13.257940327237728}"
      ]
     },
     "execution_count": 7,
     "metadata": {},
     "output_type": "execute_result"
    }
   ],
   "source": [
    "# parliamentary bert model\n",
    "dataset = 'demorgen2000'\n",
    "subset = 'test' # mini, dev, test, train\n",
    "evaluate(f'data/{dataset}/{subset}.txt', 'bert')"
   ]
  },
  {
   "cell_type": "code",
   "execution_count": 5,
   "metadata": {},
   "outputs": [
    {
     "name": "stderr",
     "output_type": "stream",
     "text": [
      "100%|██████████| 5195/5195 [01:01<00:00, 83.82it/s]\n"
     ]
    },
    {
     "data": {
      "text/plain": [
       "{'mode': 'bert',\n",
       " 'data': 'data/demorgen2000/test.txt',\n",
       " 'f1': 0.030332681017612523,\n",
       " 'precision': 0.2743362831858407,\n",
       " 'recall': 0.01605385810460901,\n",
       " 'avg_ms_per_sent': 11.8725697786333,\n",
       " 'avg_num_words_per_sent': 13.257940327237728}"
      ]
     },
     "execution_count": 5,
     "metadata": {},
     "output_type": "execute_result"
    }
   ],
   "source": [
    "# meantimenews bert model\n",
    "dataset = 'demorgen2000'\n",
    "subset = 'test' # mini, dev, test, train\n",
    "evaluate(f'data/{dataset}/{subset}.txt', 'bert')"
   ]
  },
  {
   "cell_type": "code",
   "execution_count": 5,
   "metadata": {},
   "outputs": [
    {
     "name": "stderr",
     "output_type": "stream",
     "text": [
      "100%|██████████| 5195/5195 [01:05<00:00, 79.15it/s]\n"
     ]
    },
    {
     "data": {
      "text/plain": [
       "{'mode': 'bert',\n",
       " 'data': 'data/demorgen2000/test.txt',\n",
       " 'f1': 0.07966651227420102,\n",
       " 'precision': 0.37719298245614036,\n",
       " 'recall': 0.044536509580528225,\n",
       " 'avg_ms_per_sent': 12.567276227141482,\n",
       " 'avg_num_words_per_sent': 13.257940327237728}"
      ]
     },
     "execution_count": 5,
     "metadata": {},
     "output_type": "execute_result"
    }
   ],
   "source": [
    "# europeananews bert model\n",
    "dataset = 'demorgen2000'\n",
    "subset = 'test' # mini, dev, test, train\n",
    "evaluate(f'data/{dataset}/{subset}.txt', 'bert')"
   ]
  },
  {
   "cell_type": "code",
   "execution_count": 8,
   "metadata": {},
   "outputs": [
    {
     "name": "stderr",
     "output_type": "stream",
     "text": [
      "100%|██████████| 5195/5195 [05:20<00:00, 16.19it/s]\n"
     ]
    },
    {
     "data": {
      "text/plain": [
       "{'mode': 'stanza',\n",
       " 'data': 'data/demorgen2000/test.txt',\n",
       " 'strict': {'f1': 0.8731353885495099,\n",
       "  'precision': 0.8787532170431799,\n",
       "  'recall': 0.8675889328063241},\n",
       " 'exact': {'f1': 0.9561017189941754,\n",
       "  'precision': 0.9622533600228768,\n",
       "  'recall': 0.9500282326369283},\n",
       " 'type': {'f1': 0.8779656201164937,\n",
       "  'precision': 0.8836145267372033,\n",
       "  'recall': 0.8723884810841332},\n",
       " 'partial': {'f1': 0.9595112942179287,\n",
       "  'precision': 0.9656848727480698,\n",
       "  'recall': 0.953416149068323},\n",
       " 'avg_ms_per_sent': 61.5097208854668,\n",
       " 'avg_num_words_per_sent': 13.257940327237728}"
      ]
     },
     "execution_count": 8,
     "metadata": {},
     "output_type": "execute_result"
    }
   ],
   "source": [
    "evaluate(f'data/{dataset}/{subset}.txt', 'stanza')"
   ]
  },
  {
   "cell_type": "code",
   "execution_count": 9,
   "metadata": {},
   "outputs": [
    {
     "name": "stderr",
     "output_type": "stream",
     "text": [
      "100%|██████████| 5195/5195 [00:41<00:00, 126.12it/s]\n"
     ]
    },
    {
     "data": {
      "text/plain": [
       "{'mode': 'spacy',\n",
       " 'data': 'data/demorgen2000/test.txt',\n",
       " 'strict': {'f1': 0.5039596832253419,\n",
       "  'precision': 0.5147058823529411,\n",
       "  'recall': 0.4936530324400564},\n",
       " 'exact': {'f1': 0.6928725701943845,\n",
       "  'precision': 0.7076470588235294,\n",
       "  'recall': 0.6787023977433004},\n",
       " 'type': {'f1': 0.515766738660907,\n",
       "  'precision': 0.5267647058823529,\n",
       "  'recall': 0.5052186177715091},\n",
       " 'partial': {'f1': 0.7058315334773217,\n",
       "  'precision': 0.7208823529411764,\n",
       "  'recall': 0.6913963328631876},\n",
       " 'avg_ms_per_sent': 7.883926852743022,\n",
       " 'avg_num_words_per_sent': 13.257940327237728}"
      ]
     },
     "execution_count": 9,
     "metadata": {},
     "output_type": "execute_result"
    }
   ],
   "source": [
    "dataset = 'demorgen2000'\n",
    "subset = 'test' \n",
    "evaluate(f'data/{dataset}/{subset}.txt', 'spacy')"
   ]
  },
  {
   "cell_type": "code",
   "execution_count": 10,
   "metadata": {},
   "outputs": [
    {
     "name": "stderr",
     "output_type": "stream",
     "text": [
      "100%|██████████| 27648/27648 [06:04<00:00, 75.82it/s]\n"
     ]
    },
    {
     "data": {
      "text/plain": [
       "{'mode': 'bert',\n",
       " 'data': 'data/wikiner/test.txt',\n",
       " 'strict': {'f1': 0.9113751248899484,\n",
       "  'precision': 0.9018736417565636,\n",
       "  'recall': 0.921078941054147},\n",
       " 'exact': {'f1': 0.9505485265459149,\n",
       "  'precision': 0.9406386436165006,\n",
       "  'recall': 0.9606694393345597},\n",
       " 'type': {'f1': 0.9186162688324151,\n",
       "  'precision': 0.9090392936155217,\n",
       "  'recall': 0.9283971846756779},\n",
       " 'partial': {'f1': 0.9548714499104749,\n",
       "  'precision': 0.944916498619731,\n",
       "  'recall': 0.9650383907862113},\n",
       " 'avg_ms_per_sent': 13.11935763888889,\n",
       " 'avg_num_words_per_sent': 18.826822916666668}"
      ]
     },
     "execution_count": 10,
     "metadata": {},
     "output_type": "execute_result"
    }
   ],
   "source": [
    "# =================== wikiner, test ==================================================================\n",
    "# all bert model\n",
    "dataset = 'wikiner'\n",
    "subset = 'test' # mini, dev, test, train\n",
    "evaluate(f'data/{dataset}/{subset}.txt', 'bert')"
   ]
  },
  {
   "cell_type": "code",
   "execution_count": 6,
   "metadata": {},
   "outputs": [
    {
     "name": "stderr",
     "output_type": "stream",
     "text": [
      "100%|██████████| 27648/27648 [06:05<00:00, 75.69it/s]\n"
     ]
    },
    {
     "data": {
      "text/plain": [
       "{'mode': 'bert',\n",
       " 'data': 'data/wikiner/test.txt',\n",
       " 'f1': 0.7943572267691918,\n",
       " 'precision': 0.7723779854620976,\n",
       " 'recall': 0.8176240156693448,\n",
       " 'avg_ms_per_sent': 13.141746238425926,\n",
       " 'avg_num_words_per_sent': 18.826822916666668}"
      ]
     },
     "execution_count": 6,
     "metadata": {},
     "output_type": "execute_result"
    }
   ],
   "source": [
    "# demorgen2000 bert model\n",
    "dataset = 'wikiner'\n",
    "subset = 'test' # mini, dev, test, train\n",
    "evaluate(f'data/{dataset}/{subset}.txt', 'bert')"
   ]
  },
  {
   "cell_type": "code",
   "execution_count": 29,
   "metadata": {},
   "outputs": [
    {
     "name": "stderr",
     "output_type": "stream",
     "text": [
      "100%|██████████| 27648/27648 [05:53<00:00, 78.23it/s]\n"
     ]
    },
    {
     "data": {
      "text/plain": [
       "{'mode': 'bert',\n",
       " 'data': 'data/wikiner/test.txt',\n",
       " 'f1': 0.9133919031224029,\n",
       " 'precision': 0.9043728694016692,\n",
       " 'recall': 0.9225926370068354,\n",
       " 'avg_ms_per_sent': 12.719907407407407,\n",
       " 'avg_num_words_per_sent': 18.826822916666668}"
      ]
     },
     "execution_count": 29,
     "metadata": {},
     "output_type": "execute_result"
    }
   ],
   "source": [
    "# wikiner bert model\n",
    "dataset = 'wikiner'\n",
    "subset = 'test' # mini, dev, test, train\n",
    "evaluate(f'data/{dataset}/{subset}.txt', 'bert')"
   ]
  },
  {
   "cell_type": "code",
   "execution_count": 8,
   "metadata": {},
   "outputs": [
    {
     "name": "stderr",
     "output_type": "stream",
     "text": [
      "100%|██████████| 27648/27648 [06:04<00:00, 75.83it/s]\n"
     ]
    },
    {
     "data": {
      "text/plain": [
       "{'mode': 'bert',\n",
       " 'data': 'data/wikiner/test.txt',\n",
       " 'f1': 0.05116010952586829,\n",
       " 'precision': 0.09170283116346352,\n",
       " 'recall': 0.03547587640404525,\n",
       " 'avg_ms_per_sent': 13.11794704861111,\n",
       " 'avg_num_words_per_sent': 18.826822916666668}"
      ]
     },
     "execution_count": 8,
     "metadata": {},
     "output_type": "execute_result"
    }
   ],
   "source": [
    "# parlimentary bert model\n",
    "dataset = 'wikiner'\n",
    "subset = 'test' # mini, dev, test, train\n",
    "evaluate(f'data/{dataset}/{subset}.txt', 'bert')"
   ]
  },
  {
   "cell_type": "code",
   "execution_count": 6,
   "metadata": {},
   "outputs": [
    {
     "name": "stderr",
     "output_type": "stream",
     "text": [
      "100%|██████████| 27648/27648 [06:28<00:00, 71.20it/s]\n"
     ]
    },
    {
     "data": {
      "text/plain": [
       "{'mode': 'bert',\n",
       " 'data': 'data/wikiner/test.txt',\n",
       " 'f1': 0.013990621245591597,\n",
       " 'precision': 0.2296437659033079,\n",
       " 'recall': 0.007215093736259344,\n",
       " 'avg_ms_per_sent': 13.964409722222221,\n",
       " 'avg_num_words_per_sent': 18.826822916666668}"
      ]
     },
     "execution_count": 6,
     "metadata": {},
     "output_type": "execute_result"
    }
   ],
   "source": [
    "# meantimenews bert model\n",
    "dataset = 'wikiner'\n",
    "subset = 'test' # mini, dev, test, train\n",
    "evaluate(f'data/{dataset}/{subset}.txt', 'bert')"
   ]
  },
  {
   "cell_type": "code",
   "execution_count": 6,
   "metadata": {},
   "outputs": [
    {
     "name": "stderr",
     "output_type": "stream",
     "text": [
      "100%|██████████| 27648/27648 [06:22<00:00, 72.20it/s]\n"
     ]
    },
    {
     "data": {
      "text/plain": [
       "{'mode': 'bert',\n",
       " 'data': 'data/wikiner/test.txt',\n",
       " 'f1': 0.1988976037035187,\n",
       " 'precision': 0.5961864829789358,\n",
       " 'recall': 0.11935883599152576,\n",
       " 'avg_ms_per_sent': 13.771158854166666,\n",
       " 'avg_num_words_per_sent': 18.826822916666668}"
      ]
     },
     "execution_count": 6,
     "metadata": {},
     "output_type": "execute_result"
    }
   ],
   "source": [
    "# europeananews bert model\n",
    "dataset = 'wikiner'\n",
    "subset = 'test' # mini, dev, test, train\n",
    "evaluate(f'data/{dataset}/{subset}.txt', 'bert')"
   ]
  },
  {
   "cell_type": "code",
   "execution_count": 11,
   "metadata": {},
   "outputs": [
    {
     "name": "stderr",
     "output_type": "stream",
     "text": [
      "100%|██████████| 27648/27648 [34:11<00:00, 13.47it/s]\n"
     ]
    },
    {
     "data": {
      "text/plain": [
       "{'mode': 'stanza',\n",
       " 'data': 'data/wikiner/test.txt',\n",
       " 'strict': {'f1': 0.7948412971463958,\n",
       "  'precision': 0.7824656473775885,\n",
       "  'recall': 0.8076147100537344},\n",
       " 'exact': {'f1': 0.9122489703236968,\n",
       "  'precision': 0.8980452874008128,\n",
       "  'recall': 0.9269091708116098},\n",
       " 'type': {'f1': 0.8083278450029981,\n",
       "  'precision': 0.7957422101799884,\n",
       "  'recall': 0.8213179920496994},\n",
       " 'partial': {'f1': 0.9207517865743972,\n",
       "  'precision': 0.9064157151151538,\n",
       "  'recall': 0.9355486306705819},\n",
       " 'avg_ms_per_sent': 73.92531105324075,\n",
       " 'avg_num_words_per_sent': 18.826822916666668}"
      ]
     },
     "execution_count": 11,
     "metadata": {},
     "output_type": "execute_result"
    }
   ],
   "source": [
    "evaluate(f'data/{dataset}/{subset}.txt', 'stanza')"
   ]
  },
  {
   "cell_type": "code",
   "execution_count": 12,
   "metadata": {},
   "outputs": [
    {
     "name": "stderr",
     "output_type": "stream",
     "text": [
      "100%|██████████| 27648/27648 [03:57<00:00, 116.65it/s]\n"
     ]
    },
    {
     "data": {
      "text/plain": [
       "{'mode': 'spacy',\n",
       " 'data': 'data/wikiner/test.txt',\n",
       " 'strict': {'f1': 0.5263919940381135,\n",
       "  'precision': 0.5637984902734384,\n",
       "  'recall': 0.49364030270961046},\n",
       " 'exact': {'f1': 0.7359948898115617,\n",
       "  'precision': 0.7882961983169513,\n",
       "  'recall': 0.6902018729657954},\n",
       " 'type': {'f1': 0.5459597572660491,\n",
       "  'precision': 0.584756778945928,\n",
       "  'recall': 0.5119905752680657},\n",
       " 'partial': {'f1': 0.7519535824550198,\n",
       "  'precision': 0.8053889484366804,\n",
       "  'recall': 0.705167628441924},\n",
       " 'avg_ms_per_sent': 8.521882233796296,\n",
       " 'avg_num_words_per_sent': 18.826822916666668}"
      ]
     },
     "execution_count": 12,
     "metadata": {},
     "output_type": "execute_result"
    }
   ],
   "source": [
    "dataset = 'wikiner'\n",
    "subset = 'test'\n",
    "evaluate(f'data/{dataset}/{subset}.txt', 'spacy')"
   ]
  },
  {
   "cell_type": "code",
   "execution_count": 13,
   "metadata": {},
   "outputs": [
    {
     "name": "stderr",
     "output_type": "stream",
     "text": [
      "100%|██████████| 502/502 [00:05<00:00, 84.13it/s]\n"
     ]
    },
    {
     "data": {
      "text/plain": [
       "{'mode': 'bert',\n",
       " 'data': 'data/parliamentary/test.txt',\n",
       " 'strict': {'f1': 0.7308970099667774,\n",
       "  'precision': 0.6875,\n",
       "  'recall': 0.7801418439716312},\n",
       " 'exact': {'f1': 0.8073089700996677,\n",
       "  'precision': 0.759375,\n",
       "  'recall': 0.8617021276595744},\n",
       " 'type': {'f1': 0.7475083056478405,\n",
       "  'precision': 0.703125,\n",
       "  'recall': 0.7978723404255319},\n",
       " 'partial': {'f1': 0.823920265780731,\n",
       "  'precision': 0.775,\n",
       "  'recall': 0.8794326241134752},\n",
       " 'avg_ms_per_sent': 11.840637450199203,\n",
       " 'avg_num_words_per_sent': 20.685258964143426}"
      ]
     },
     "execution_count": 13,
     "metadata": {},
     "output_type": "execute_result"
    }
   ],
   "source": [
    "# =================== parliamentary, test ==============================================================\n",
    "# all bert model\n",
    "dataset = 'parliamentary'\n",
    "subset = 'test'\n",
    "evaluate(f'data/{dataset}/{subset}.txt', 'bert')"
   ]
  },
  {
   "cell_type": "code",
   "execution_count": 7,
   "metadata": {},
   "outputs": [
    {
     "name": "stderr",
     "output_type": "stream",
     "text": [
      "100%|██████████| 502/502 [00:05<00:00, 83.82it/s]\n"
     ]
    },
    {
     "data": {
      "text/plain": [
       "{'mode': 'bert',\n",
       " 'data': 'data/parliamentary/test.txt',\n",
       " 'f1': 0.6666666666666666,\n",
       " 'precision': 0.6170212765957447,\n",
       " 'recall': 0.725,\n",
       " 'avg_ms_per_sent': 11.876494023904382,\n",
       " 'avg_num_words_per_sent': 20.685258964143426}"
      ]
     },
     "execution_count": 7,
     "metadata": {},
     "output_type": "execute_result"
    }
   ],
   "source": [
    "# demorgen2000 bert model\n",
    "dataset = 'parliamentary'\n",
    "subset = 'test'\n",
    "evaluate(f'data/{dataset}/{subset}.txt', 'bert')"
   ]
  },
  {
   "cell_type": "code",
   "execution_count": 32,
   "metadata": {},
   "outputs": [
    {
     "name": "stderr",
     "output_type": "stream",
     "text": [
      "100%|██████████| 502/502 [00:05<00:00, 84.02it/s]\n"
     ]
    },
    {
     "data": {
      "text/plain": [
       "{'mode': 'bert',\n",
       " 'data': 'data/parliamentary/test.txt',\n",
       " 'f1': 0.5816993464052287,\n",
       " 'precision': 0.5493827160493827,\n",
       " 'recall': 0.6180555555555556,\n",
       " 'avg_ms_per_sent': 11.834661354581673,\n",
       " 'avg_num_words_per_sent': 20.888446215139442}"
      ]
     },
     "execution_count": 32,
     "metadata": {},
     "output_type": "execute_result"
    }
   ],
   "source": [
    "# wikiner bert model\n",
    "dataset = 'parliamentary'\n",
    "subset = 'test'\n",
    "evaluate(f'data/{dataset}/{subset}.txt', 'bert')"
   ]
  },
  {
   "cell_type": "code",
   "execution_count": 7,
   "metadata": {},
   "outputs": [
    {
     "name": "stderr",
     "output_type": "stream",
     "text": [
      "100%|██████████| 502/502 [00:06<00:00, 77.55it/s]\n"
     ]
    },
    {
     "data": {
      "text/plain": [
       "{'mode': 'bert',\n",
       " 'data': 'data/parliamentary/test.txt',\n",
       " 'f1': 0,\n",
       " 'precision': 0.0,\n",
       " 'recall': 0.0,\n",
       " 'avg_ms_per_sent': 12.820717131474103,\n",
       " 'avg_num_words_per_sent': 20.685258964143426}"
      ]
     },
     "execution_count": 7,
     "metadata": {},
     "output_type": "execute_result"
    }
   ],
   "source": [
    "# meantimenews bert model\n",
    "dataset = 'parliamentary'\n",
    "subset = 'test'\n",
    "evaluate(f'data/{dataset}/{subset}.txt', 'bert')"
   ]
  },
  {
   "cell_type": "code",
   "execution_count": 7,
   "metadata": {},
   "outputs": [
    {
     "name": "stderr",
     "output_type": "stream",
     "text": [
      "100%|██████████| 502/502 [00:06<00:00, 80.89it/s]\n"
     ]
    },
    {
     "data": {
      "text/plain": [
       "{'mode': 'bert',\n",
       " 'data': 'data/parliamentary/test.txt',\n",
       " 'f1': 0.11620795107033638,\n",
       " 'precision': 0.40425531914893614,\n",
       " 'recall': 0.06785714285714285,\n",
       " 'avg_ms_per_sent': 12.294820717131474,\n",
       " 'avg_num_words_per_sent': 20.685258964143426}"
      ]
     },
     "execution_count": 7,
     "metadata": {},
     "output_type": "execute_result"
    }
   ],
   "source": [
    "# europeananews bert model\n",
    "dataset = 'parliamentary'\n",
    "subset = 'test'\n",
    "evaluate(f'data/{dataset}/{subset}.txt', 'bert')"
   ]
  },
  {
   "cell_type": "code",
   "execution_count": 14,
   "metadata": {},
   "outputs": [
    {
     "name": "stderr",
     "output_type": "stream",
     "text": [
      "100%|██████████| 502/502 [00:38<00:00, 13.05it/s]\n"
     ]
    },
    {
     "data": {
      "text/plain": [
       "{'mode': 'stanza',\n",
       " 'data': 'data/parliamentary/test.txt',\n",
       " 'strict': {'f1': 0.6564625850340136,\n",
       "  'precision': 0.6286644951140065,\n",
       "  'recall': 0.6868327402135231},\n",
       " 'exact': {'f1': 0.8095238095238095,\n",
       "  'precision': 0.7752442996742671,\n",
       "  'recall': 0.8469750889679716},\n",
       " 'type': {'f1': 0.6666666666666667,\n",
       "  'precision': 0.6384364820846905,\n",
       "  'recall': 0.697508896797153},\n",
       " 'partial': {'f1': 0.8333333333333334,\n",
       "  'precision': 0.7980456026058632,\n",
       "  'recall': 0.8718861209964412},\n",
       " 'avg_ms_per_sent': 76.3406374501992,\n",
       " 'avg_num_words_per_sent': 20.685258964143426}"
      ]
     },
     "execution_count": 14,
     "metadata": {},
     "output_type": "execute_result"
    }
   ],
   "source": [
    "evaluate(f'data/{dataset}/{subset}.txt', 'stanza')"
   ]
  },
  {
   "cell_type": "code",
   "execution_count": 15,
   "metadata": {},
   "outputs": [
    {
     "name": "stderr",
     "output_type": "stream",
     "text": [
      "100%|██████████| 502/502 [00:04<00:00, 122.18it/s]\n"
     ]
    },
    {
     "data": {
      "text/plain": [
       "{'mode': 'spacy',\n",
       " 'data': 'data/parliamentary/test.txt',\n",
       " 'strict': {'f1': 0.3493761140819964,\n",
       "  'precision': 0.35125448028673834,\n",
       "  'recall': 0.3475177304964539},\n",
       " 'exact': {'f1': 0.5490196078431373,\n",
       "  'precision': 0.5519713261648745,\n",
       "  'recall': 0.5460992907801419},\n",
       " 'type': {'f1': 0.35650623885918004,\n",
       "  'precision': 0.35842293906810035,\n",
       "  'recall': 0.3546099290780142},\n",
       " 'partial': {'f1': 0.5668449197860964,\n",
       "  'precision': 0.5698924731182796,\n",
       "  'recall': 0.5638297872340425},\n",
       " 'avg_ms_per_sent': 8.121513944223107,\n",
       " 'avg_num_words_per_sent': 20.685258964143426}"
      ]
     },
     "execution_count": 15,
     "metadata": {},
     "output_type": "execute_result"
    }
   ],
   "source": [
    "evaluate(f'data/{dataset}/{subset}.txt', 'spacy')"
   ]
  },
  {
   "cell_type": "code",
   "execution_count": 16,
   "metadata": {},
   "outputs": [
    {
     "name": "stderr",
     "output_type": "stream",
     "text": [
      "100%|██████████| 534/534 [00:06<00:00, 83.75it/s]\n"
     ]
    },
    {
     "data": {
      "text/plain": [
       "{'mode': 'bert',\n",
       " 'data': 'data/meantimenews/test.txt',\n",
       " 'strict': {'f1': 0.3508178228990412,\n",
       "  'precision': 0.3478747203579418,\n",
       "  'recall': 0.35381114903299204},\n",
       " 'exact': {'f1': 0.3666102650874224,\n",
       "  'precision': 0.3635346756152125,\n",
       "  'recall': 0.36973833902161546},\n",
       " 'type': {'f1': 0.4568527918781726,\n",
       "  'precision': 0.45302013422818793,\n",
       "  'recall': 0.46075085324232085},\n",
       " 'partial': {'f1': 0.4247038917089679,\n",
       "  'precision': 0.4211409395973154,\n",
       "  'recall': 0.4283276450511945},\n",
       " 'avg_ms_per_sent': 11.887640449438202,\n",
       " 'avg_num_words_per_sent': 21.96067415730337}"
      ]
     },
     "execution_count": 16,
     "metadata": {},
     "output_type": "execute_result"
    }
   ],
   "source": [
    "# =================== meantimenews, test ==============================================================\n",
    "# all bert model \n",
    "dataset = 'meantimenews'\n",
    "subset = 'test'\n",
    "evaluate(f'data/{dataset}/{subset}.txt', 'bert')"
   ]
  },
  {
   "cell_type": "code",
   "execution_count": 8,
   "metadata": {},
   "outputs": [
    {
     "name": "stderr",
     "output_type": "stream",
     "text": [
      "100%|██████████| 534/534 [00:06<00:00, 83.17it/s]\n"
     ]
    },
    {
     "data": {
      "text/plain": [
       "{'mode': 'bert',\n",
       " 'data': 'data/meantimenews/test.txt',\n",
       " 'f1': 0.24343163538873994,\n",
       " 'precision': 0.2292929292929293,\n",
       " 'recall': 0.25942857142857145,\n",
       " 'avg_ms_per_sent': 11.962546816479401,\n",
       " 'avg_num_words_per_sent': 21.96067415730337}"
      ]
     },
     "execution_count": 8,
     "metadata": {},
     "output_type": "execute_result"
    }
   ],
   "source": [
    "# demorgen2000 bert model \n",
    "dataset = 'meantimenews'\n",
    "subset = 'test'\n",
    "evaluate(f'data/{dataset}/{subset}.txt', 'bert')"
   ]
  },
  {
   "cell_type": "code",
   "execution_count": 35,
   "metadata": {},
   "outputs": [
    {
     "name": "stderr",
     "output_type": "stream",
     "text": [
      "100%|██████████| 534/534 [00:06<00:00, 82.92it/s]\n"
     ]
    },
    {
     "data": {
      "text/plain": [
       "{'mode': 'bert',\n",
       " 'data': 'data/meantimenews/test.txt',\n",
       " 'f1': 0.2543103448275862,\n",
       " 'precision': 0.24057084607543322,\n",
       " 'recall': 0.26971428571428574,\n",
       " 'avg_ms_per_sent': 12.00374531835206,\n",
       " 'avg_num_words_per_sent': 21.96067415730337}"
      ]
     },
     "execution_count": 35,
     "metadata": {},
     "output_type": "execute_result"
    }
   ],
   "source": [
    "# wikiner bert model\n",
    "dataset = 'meantimenews'\n",
    "subset = 'test'\n",
    "evaluate(f'data/{dataset}/{subset}.txt', 'bert')"
   ]
  },
  {
   "cell_type": "code",
   "execution_count": 9,
   "metadata": {},
   "outputs": [
    {
     "name": "stderr",
     "output_type": "stream",
     "text": [
      "100%|██████████| 534/534 [00:06<00:00, 82.83it/s]\n"
     ]
    },
    {
     "data": {
      "text/plain": [
       "{'mode': 'bert',\n",
       " 'data': 'data/meantimenews/test.txt',\n",
       " 'f1': 0.02009273570324575,\n",
       " 'precision': 0.031026252983293555,\n",
       " 'recall': 0.014857142857142857,\n",
       " 'avg_ms_per_sent': 12.014981273408239,\n",
       " 'avg_num_words_per_sent': 21.96067415730337}"
      ]
     },
     "execution_count": 9,
     "metadata": {},
     "output_type": "execute_result"
    }
   ],
   "source": [
    "# parliamentary bert model\n",
    "dataset = 'meantimenews'\n",
    "subset = 'test'\n",
    "evaluate(f'data/{dataset}/{subset}.txt', 'bert')"
   ]
  },
  {
   "cell_type": "code",
   "execution_count": 8,
   "metadata": {},
   "outputs": [
    {
     "name": "stderr",
     "output_type": "stream",
     "text": [
      "100%|██████████| 534/534 [00:06<00:00, 80.84it/s]\n"
     ]
    },
    {
     "data": {
      "text/plain": [
       "{'mode': 'bert',\n",
       " 'data': 'data/meantimenews/test.txt',\n",
       " 'f1': 0.010672358591248666,\n",
       " 'precision': 0.08064516129032258,\n",
       " 'recall': 0.005714285714285714,\n",
       " 'avg_ms_per_sent': 12.320224719101123,\n",
       " 'avg_num_words_per_sent': 21.96067415730337}"
      ]
     },
     "execution_count": 8,
     "metadata": {},
     "output_type": "execute_result"
    }
   ],
   "source": [
    "# europeananews bert model\n",
    "dataset = 'meantimenews'\n",
    "subset = 'test'\n",
    "evaluate(f'data/{dataset}/{subset}.txt', 'bert')"
   ]
  },
  {
   "cell_type": "code",
   "execution_count": 17,
   "metadata": {},
   "outputs": [
    {
     "name": "stderr",
     "output_type": "stream",
     "text": [
      "100%|██████████| 534/534 [00:43<00:00, 12.35it/s]\n"
     ]
    },
    {
     "data": {
      "text/plain": [
       "{'mode': 'stanza',\n",
       " 'data': 'data/meantimenews/test.txt',\n",
       " 'strict': {'f1': 0.21269669017905588,\n",
       "  'precision': 0.20310880829015543,\n",
       "  'recall': 0.22323462414578588},\n",
       " 'exact': {'f1': 0.26044492674986436,\n",
       "  'precision': 0.24870466321243523,\n",
       "  'recall': 0.2733485193621868},\n",
       " 'type': {'f1': 0.29734129137276183,\n",
       "  'precision': 0.2839378238341969,\n",
       "  'recall': 0.3120728929384966},\n",
       " 'partial': {'f1': 0.31795984807379274,\n",
       "  'precision': 0.30362694300518134,\n",
       "  'recall': 0.3337129840546697},\n",
       " 'avg_ms_per_sent': 80.66666666666667,\n",
       " 'avg_num_words_per_sent': 21.96067415730337}"
      ]
     },
     "execution_count": 17,
     "metadata": {},
     "output_type": "execute_result"
    }
   ],
   "source": [
    "evaluate(f'data/{dataset}/{subset}.txt', 'stanza')"
   ]
  },
  {
   "cell_type": "code",
   "execution_count": 18,
   "metadata": {},
   "outputs": [
    {
     "name": "stderr",
     "output_type": "stream",
     "text": [
      "100%|██████████| 534/534 [00:04<00:00, 114.06it/s]\n"
     ]
    },
    {
     "data": {
      "text/plain": [
       "{'mode': 'spacy',\n",
       " 'data': 'data/meantimenews/test.txt',\n",
       " 'strict': {'f1': 0.07129686539643515,\n",
       "  'precision': 0.07733333333333334,\n",
       "  'recall': 0.0661345496009122},\n",
       " 'exact': {'f1': 0.14382298709280886,\n",
       "  'precision': 0.156,\n",
       "  'recall': 0.13340935005701254},\n",
       " 'type': {'f1': 0.11677934849416104,\n",
       "  'precision': 0.12666666666666668,\n",
       "  'recall': 0.10832383124287344},\n",
       " 'partial': {'f1': 0.1917639827904118,\n",
       "  'precision': 0.208,\n",
       "  'recall': 0.17787913340935005},\n",
       " 'avg_ms_per_sent': 8.709737827715356,\n",
       " 'avg_num_words_per_sent': 21.96067415730337}"
      ]
     },
     "execution_count": 18,
     "metadata": {},
     "output_type": "execute_result"
    }
   ],
   "source": [
    "evaluate(f'data/{dataset}/{subset}.txt', 'spacy')"
   ]
  },
  {
   "cell_type": "code",
   "execution_count": 19,
   "metadata": {},
   "outputs": [
    {
     "name": "stderr",
     "output_type": "stream",
     "text": [
      "100%|██████████| 602/602 [00:08<00:00, 69.54it/s]\n"
     ]
    },
    {
     "data": {
      "text/plain": [
       "{'mode': 'bert',\n",
       " 'data': 'data/europeananews/test.txt',\n",
       " 'strict': {'f1': 0.5812200137080192,\n",
       "  'precision': 0.5832187070151307,\n",
       "  'recall': 0.5792349726775956},\n",
       " 'exact': {'f1': 0.6004112405757368,\n",
       "  'precision': 0.6024759284731774,\n",
       "  'recall': 0.5983606557377049},\n",
       " 'type': {'f1': 0.6237148732008225,\n",
       "  'precision': 0.6258596973865199,\n",
       "  'recall': 0.6215846994535519},\n",
       " 'partial': {'f1': 0.6223440712816998,\n",
       "  'precision': 0.624484181568088,\n",
       "  'recall': 0.6202185792349727},\n",
       " 'avg_ms_per_sent': 14.317275747508306,\n",
       " 'avg_num_words_per_sent': 100.7375415282392}"
      ]
     },
     "execution_count": 19,
     "metadata": {},
     "output_type": "execute_result"
    }
   ],
   "source": [
    "# =================== europeananews, test ==============================================================\n",
    "# all bert model\n",
    "dataset = 'europeananews'\n",
    "subset = 'test'\n",
    "evaluate(f'data/{dataset}/{subset}.txt', 'bert')"
   ]
  },
  {
   "cell_type": "code",
   "execution_count": 9,
   "metadata": {},
   "outputs": [
    {
     "name": "stderr",
     "output_type": "stream",
     "text": [
      "100%|██████████| 602/602 [00:09<00:00, 66.84it/s]\n"
     ]
    },
    {
     "data": {
      "text/plain": [
       "{'mode': 'bert',\n",
       " 'data': 'data/europeananews/test.txt',\n",
       " 'f1': 0.36254809747755457,\n",
       " 'precision': 0.263681592039801,\n",
       " 'recall': 0.5800273597811217,\n",
       " 'avg_ms_per_sent': 14.890365448504983,\n",
       " 'avg_num_words_per_sent': 100.7375415282392}"
      ]
     },
     "execution_count": 9,
     "metadata": {},
     "output_type": "execute_result"
    }
   ],
   "source": [
    "# demorgen2000 bert model\n",
    "dataset = 'europeananews'\n",
    "subset = 'test'\n",
    "evaluate(f'data/{dataset}/{subset}.txt', 'bert')"
   ]
  },
  {
   "cell_type": "code",
   "execution_count": 38,
   "metadata": {},
   "outputs": [
    {
     "name": "stderr",
     "output_type": "stream",
     "text": [
      "100%|██████████| 602/602 [00:08<00:00, 68.44it/s]\n"
     ]
    },
    {
     "data": {
      "text/plain": [
       "{'mode': 'bert',\n",
       " 'data': 'data/europeananews/test.txt',\n",
       " 'f1': 0.3360723089564503,\n",
       " 'precision': 0.2401644157369348,\n",
       " 'recall': 0.5595075239398085,\n",
       " 'avg_ms_per_sent': 14.544850498338871,\n",
       " 'avg_num_words_per_sent': 100.7375415282392}"
      ]
     },
     "execution_count": 38,
     "metadata": {},
     "output_type": "execute_result"
    }
   ],
   "source": [
    "# wikiner bert model\n",
    "dataset = 'europeananews'\n",
    "subset = 'test'\n",
    "evaluate(f'data/{dataset}/{subset}.txt', 'bert')"
   ]
  },
  {
   "cell_type": "code",
   "execution_count": 10,
   "metadata": {},
   "outputs": [
    {
     "name": "stderr",
     "output_type": "stream",
     "text": [
      "100%|██████████| 602/602 [00:09<00:00, 66.83it/s]\n"
     ]
    },
    {
     "data": {
      "text/plain": [
       "{'mode': 'bert',\n",
       " 'data': 'data/europeananews/test.txt',\n",
       " 'f1': 0.05328135152696556,\n",
       " 'precision': 0.050742574257425746,\n",
       " 'recall': 0.0560875512995896,\n",
       " 'avg_ms_per_sent': 14.87375415282392,\n",
       " 'avg_num_words_per_sent': 100.7375415282392}"
      ]
     },
     "execution_count": 10,
     "metadata": {},
     "output_type": "execute_result"
    }
   ],
   "source": [
    "# parliamentary bert model\n",
    "dataset = 'europeananews'\n",
    "subset = 'test'\n",
    "evaluate(f'data/{dataset}/{subset}.txt', 'bert')"
   ]
  },
  {
   "cell_type": "code",
   "execution_count": 8,
   "metadata": {},
   "outputs": [
    {
     "name": "stderr",
     "output_type": "stream",
     "text": [
      "100%|██████████| 602/602 [00:09<00:00, 63.58it/s]\n"
     ]
    },
    {
     "data": {
      "text/plain": [
       "{'mode': 'bert',\n",
       " 'data': 'data/europeananews/test.txt',\n",
       " 'f1': 0,\n",
       " 'precision': 0.0,\n",
       " 'recall': 0.0,\n",
       " 'avg_ms_per_sent': 15.654485049833887,\n",
       " 'avg_num_words_per_sent': 100.7375415282392}"
      ]
     },
     "execution_count": 8,
     "metadata": {},
     "output_type": "execute_result"
    }
   ],
   "source": [
    "# meantimenews bert model\n",
    "dataset = 'europeananews'\n",
    "subset = 'test'\n",
    "evaluate(f'data/{dataset}/{subset}.txt', 'bert')"
   ]
  },
  {
   "cell_type": "code",
   "execution_count": 20,
   "metadata": {},
   "outputs": [
    {
     "name": "stderr",
     "output_type": "stream",
     "text": [
      "100%|██████████| 602/602 [01:26<00:00,  6.96it/s]\n"
     ]
    },
    {
     "data": {
      "text/plain": [
       "{'mode': 'stanza',\n",
       " 'data': 'data/europeananews/test.txt',\n",
       " 'strict': {'f1': 0.056329932461560574,\n",
       "  'precision': 0.046445497630331754,\n",
       "  'recall': 0.07155896312522819},\n",
       " 'exact': {'f1': 0.07989653685874407,\n",
       "  'precision': 0.06587677725118483,\n",
       "  'recall': 0.10149689667761957},\n",
       " 'type': {'f1': 0.07730995832734588,\n",
       "  'precision': 0.06374407582938389,\n",
       "  'recall': 0.0982110259218693},\n",
       " 'partial': {'f1': 0.09484121281793362,\n",
       "  'precision': 0.07819905213270142,\n",
       "  'recall': 0.12048192771084337},\n",
       " 'avg_ms_per_sent': 143.45348837209303,\n",
       " 'avg_num_words_per_sent': 100.7375415282392}"
      ]
     },
     "execution_count": 20,
     "metadata": {},
     "output_type": "execute_result"
    }
   ],
   "source": [
    "evaluate(f'data/{dataset}/{subset}.txt', 'stanza')"
   ]
  },
  {
   "cell_type": "code",
   "execution_count": 21,
   "metadata": {},
   "outputs": [
    {
     "name": "stderr",
     "output_type": "stream",
     "text": [
      "100%|██████████| 602/602 [00:20<00:00, 29.42it/s]\n"
     ]
    },
    {
     "data": {
      "text/plain": [
       "{'mode': 'spacy',\n",
       " 'data': 'data/europeananews/test.txt',\n",
       " 'strict': {'f1': 0.03851444291609354,\n",
       "  'precision': 0.030911901081916538,\n",
       "  'recall': 0.05107624954396206},\n",
       " 'exact': {'f1': 0.06932599724896837,\n",
       "  'precision': 0.05564142194744977,\n",
       "  'recall': 0.09193724917913171},\n",
       " 'type': {'f1': 0.055020632737276476,\n",
       "  'precision': 0.044159858688452194,\n",
       "  'recall': 0.07296607077708865},\n",
       " 'partial': {'f1': 0.07991746905089409,\n",
       "  'precision': 0.06414219474497682,\n",
       "  'recall': 0.10598321780372127},\n",
       " 'avg_ms_per_sent': 33.895348837209305,\n",
       " 'avg_num_words_per_sent': 100.7375415282392}"
      ]
     },
     "execution_count": 21,
     "metadata": {},
     "output_type": "execute_result"
    }
   ],
   "source": [
    "evaluate(f'data/{dataset}/{subset}.txt', 'spacy')"
   ]
  },
  {
   "cell_type": "code",
   "execution_count": null,
   "metadata": {},
   "outputs": [],
   "source": []
  },
  {
   "cell_type": "code",
   "execution_count": null,
   "metadata": {},
   "outputs": [],
   "source": []
  },
  {
   "cell_type": "code",
   "execution_count": 28,
   "metadata": {},
   "outputs": [
    {
     "name": "stderr",
     "output_type": "stream",
     "text": [
      "100%|██████████| 5195/5195 [01:01<00:00, 84.79it/s]\n",
      "100%|██████████| 5195/5195 [05:21<00:00, 16.16it/s]\n",
      "100%|██████████| 5195/5195 [00:42<00:00, 122.85it/s]\n",
      "100%|██████████| 602/602 [00:08<00:00, 68.80it/s]\n",
      "100%|██████████| 602/602 [01:30<00:00,  6.63it/s]\n",
      "100%|██████████| 602/602 [00:24<00:00, 24.10it/s]\n",
      "100%|██████████| 534/534 [00:06<00:00, 78.95it/s]\n",
      "100%|██████████| 534/534 [00:46<00:00, 11.61it/s]\n",
      "100%|██████████| 534/534 [00:05<00:00, 97.38it/s] \n",
      "100%|██████████| 502/502 [00:06<00:00, 78.79it/s]\n",
      "100%|██████████| 502/502 [00:41<00:00, 12.17it/s]\n",
      "100%|██████████| 502/502 [00:04<00:00, 104.93it/s]\n",
      "100%|██████████| 27648/27648 [06:05<00:00, 75.54it/s]\n",
      "100%|██████████| 27648/27648 [40:00<00:00, 11.52it/s]\n",
      "100%|██████████| 27648/27648 [04:59<00:00, 92.46it/s] \n"
     ]
    }
   ],
   "source": [
    "#++++++++++++++++++++++++ write the evaluation results into a csv file +++++++++++++++++++++++++++++++++\n",
    "def write_evaluation_to_csv():\n",
    "    ner_models = ['bert', 'stanza', 'spacy']\n",
    "    datasets = ['demorgen2000', 'europeananews', 'meantimenews', 'parliamentary', 'wikiner']\n",
    "    entity_types = ['', 'PER', 'LOC', 'ORG', 'MISC']\n",
    "    score_modes = ['strict', 'exact', 'type', 'partial']\n",
    "    score_metrics = ['f1', 'precision', 'recall']\n",
    "    data_subset = 'test'\n",
    "    output = open('evaluation.csv', 'w')\n",
    "    header = 'experiment_id, model_name, dataset, '\n",
    "    for entity_type in entity_types:\n",
    "        for score_mode in score_modes:\n",
    "            for score_metric in score_metrics:\n",
    "                col = score_metric + '_' + score_mode + '_' + entity_type\n",
    "                if entity_type == '':\n",
    "                    col = col[:-1]\n",
    "                header += col+', '\n",
    "    header = header[:-2]\n",
    "    output.write(header + '\\n')\n",
    "    count = 0\n",
    "    for dataset in datasets:\n",
    "        for ner_model in ner_models:\n",
    "            count += 1\n",
    "            result = evaluate(f'data/{dataset}/{data_subset}.txt', ner_model)\n",
    "            row = f'{count}, {ner_model}, {dataset}, '\n",
    "            for entity_type in entity_types:\n",
    "                for score_mode in score_modes:\n",
    "                    for score_metric in score_metrics:\n",
    "                        _score_mode = 'ent_type' if score_mode == 'type' else score_mode\n",
    "                        if entity_type == '':\n",
    "                            score = result[_score_mode][score_metric]\n",
    "                        else:\n",
    "                            score = result[entity_type][_score_mode][score_metric]\n",
    "                        row += f'{score}, '\n",
    "            row = row[:-2]\n",
    "            output.write(row + '\\n')\n",
    "    output.close()\n",
    "    \n",
    "    \n",
    "write_evaluation_to_csv()"
   ]
  },
  {
   "cell_type": "code",
   "execution_count": null,
   "metadata": {},
   "outputs": [],
   "source": []
  },
  {
   "cell_type": "code",
   "execution_count": null,
   "metadata": {},
   "outputs": [],
   "source": []
  },
  {
   "cell_type": "code",
   "execution_count": null,
   "metadata": {},
   "outputs": [],
   "source": []
  },
  {
   "cell_type": "code",
   "execution_count": null,
   "metadata": {},
   "outputs": [],
   "source": []
  }
 ],
 "metadata": {
  "kernelspec": {
   "display_name": "q-seg-venv",
   "language": "python",
   "name": "q-seg-venv"
  },
  "language_info": {
   "codemirror_mode": {
    "name": "ipython",
    "version": 3
   },
   "file_extension": ".py",
   "mimetype": "text/x-python",
   "name": "python",
   "nbconvert_exporter": "python",
   "pygments_lexer": "ipython3",
   "version": "3.7.3"
  }
 },
 "nbformat": 4,
 "nbformat_minor": 4
}
