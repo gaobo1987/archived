{
 "cells": [
  {
   "cell_type": "code",
   "execution_count": 10,
   "metadata": {},
   "outputs": [
    {
     "name": "stdout",
     "output_type": "stream",
     "text": [
      "Kamer has invalid ner tag\n",
      "in has empty ner tag\n",
      "Kamerstuk has empty ner tag\n"
     ]
    }
   ],
   "source": [
    "# this script transforms the \"original.txt\" dataset to \n",
    "# the format that is suited for NER training and testing\n",
    "f = open('original.txt', 'r')\n",
    "w = open('all.txt', 'w')\n",
    "for l in f:\n",
    "    parts = l.split(' ')\n",
    "    word = parts[0]\n",
    "    pos = parts[1]\n",
    "    ner = parts[2]\n",
    "    if len(ner[:-1]) < 1:\n",
    "        print(f'{word} has empty ner tag')\n",
    "        ner = 'O\\n'\n",
    "    elif 'B-ORGP' in ner:\n",
    "        print(f'{word} has invalid ner tag')\n",
    "        ner = 'B-ORG'\n",
    "    w.write(word + ' ' + ner)\n",
    "    if pos == 'Punc' and word == '.':\n",
    "        w.write('\\n')\n",
    "        \n",
    "f.close()\n",
    "w.close()"
   ]
  },
  {
   "cell_type": "code",
   "execution_count": 11,
   "metadata": {},
   "outputs": [
    {
     "name": "stdout",
     "output_type": "stream",
     "text": [
      "#sentences:  1673\n"
     ]
    }
   ],
   "source": [
    "# separate all.txt into train.txt (70%) and test.txt (30%)\n",
    "import random\n",
    "f = open('all.txt', 'r')\n",
    "sents = []\n",
    "sent = []\n",
    "for l in f:\n",
    "    if l != '\\n':\n",
    "        sent.append(l)\n",
    "    else:\n",
    "        sents.append(sent.copy())\n",
    "        sent = []\n",
    "f.close()\n",
    "print('#sentences: ', len(sents))\n",
    "\n",
    "random.shuffle(sents)\n",
    "num_train = int(len(sents) * 0.7)\n",
    "train = []\n",
    "test = []\n",
    "for i, s in enumerate(sents):\n",
    "    if i<num_train:\n",
    "        train.append(s)\n",
    "    else:\n",
    "        test.append(s)\n",
    "\n",
    "w = open('train.txt', 'w')\n",
    "for s in train:\n",
    "    for t in s:\n",
    "        w.write(t)\n",
    "    w.write('\\n')\n",
    "w.close()\n",
    "\n",
    "w = open('test.txt', 'w')\n",
    "for s in test:\n",
    "    for t in s:\n",
    "        w.write(t)\n",
    "    w.write('\\n')\n",
    "w.close()"
   ]
  },
  {
   "cell_type": "code",
   "execution_count": null,
   "metadata": {},
   "outputs": [],
   "source": []
  }
 ],
 "metadata": {
  "kernelspec": {
   "display_name": "q-seg-venv",
   "language": "python",
   "name": "q-seg-venv"
  },
  "language_info": {
   "codemirror_mode": {
    "name": "ipython",
    "version": 3
   },
   "file_extension": ".py",
   "mimetype": "text/x-python",
   "name": "python",
   "nbconvert_exporter": "python",
   "pygments_lexer": "ipython3",
   "version": "3.7.3"
  }
 },
 "nbformat": 4,
 "nbformat_minor": 4
}
