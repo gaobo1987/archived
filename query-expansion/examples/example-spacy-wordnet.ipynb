{
 "cells": [
  {
   "cell_type": "code",
   "execution_count": 1,
   "metadata": {},
   "outputs": [],
   "source": [
    "import spacy\n",
    "\n",
    "from spacy_wordnet.wordnet_annotator import WordnetAnnotator \n",
    "\n",
    "# Load an spacy model (supported models are \"es\" and \"en\") \n",
    "nlp = spacy.load('../models/spacy/en_core_web_sm-2.3.0')"
   ]
  },
  {
   "cell_type": "code",
   "execution_count": 3,
   "metadata": {},
   "outputs": [],
   "source": [
    "import nltk\n",
    "nltk.data.path.append('../models/nltk')"
   ]
  },
  {
   "cell_type": "code",
   "execution_count": null,
   "metadata": {},
   "outputs": [],
   "source": [
    "nlp.add_pipe(WordnetAnnotator(nlp.lang), after='tagger')"
   ]
  },
  {
   "cell_type": "code",
   "execution_count": 36,
   "metadata": {},
   "outputs": [
    {
     "name": "stdout",
     "output_type": "stream",
     "text": [
      "['monetary_value', 'price', 'cost', 'price', 'terms', 'damage', 'price', 'cost', 'toll', 'price', 'price', 'price', 'Price', 'Leontyne_Price', 'Mary_Leontyne_Price']\n"
     ]
    }
   ],
   "source": [
    "token = nlp('prices')[0]\n",
    "\n",
    "# wordnet object link spacy token with nltk wordnet interface by giving acces to\n",
    "# synsets and lemmas \n",
    "synsets = token._.wordnet.synsets()\n",
    "tlemmas = token._.wordnet.lemmas()\n",
    "lemmas_for_synset = [lemma for s in synsets for lemma in s.lemma_names()]\n",
    "print(lemmas_for_synset)"
   ]
  },
  {
   "cell_type": "code",
   "execution_count": 30,
   "metadata": {},
   "outputs": [],
   "source": [
    "# And automatically tags with wordnet domains\n",
    "t_domains = token._.wordnet.wordnet_domains()"
   ]
  },
  {
   "cell_type": "code",
   "execution_count": 59,
   "metadata": {},
   "outputs": [
    {
     "name": "stdout",
     "output_type": "stream",
     "text": [
      "lemmas_for_synset,  economic\n",
      "['econom']\n",
      "lemmas_for_synset,  tension\n",
      "['taut', 'stress', 'tension', 'latent hostil', 'tensiti', 'tens']\n",
      "lemmas_for_synset,  China\n",
      "['nationalist china', 'china', 'cathay', 'prc', 'chinawar', 'communist china', 'republic of china', 'mainland china', \"people's republic of china\", 'taiwan', 'red china']\n",
      "(econom) (taut|stress|tension|latent hostil|tensiti|tens) between (nationalist china|china|cathay|prc|chinawar|communist china|republic of china|mainland china|people's republic of china|taiwan|red china) and US\n"
     ]
    }
   ],
   "source": [
    "economy_domains = ['finance', 'banking']\n",
    "enriched_sentence = []\n",
    "s = 'I want to withdraw 5,000 euros'\n",
    "s = 'This Tesla car is awesome, but its price is high.'\n",
    "s = 'Tell me somthing about Harry Potter, how about NBA'\n",
    "s = 'economic tension between China and US'\n",
    "sentence = nlp(s)\n",
    "\n",
    "# For each token in the sentence\n",
    "for token in sentence:\n",
    "#     t_domains = token._.wordnet.wordnet_domains()\n",
    "#     print(t_domains)\n",
    "#     print('-----------------------------------------')\n",
    "    # We get those synsets within the desired domains\n",
    "    # synsets = token._.wordnet.wordnet_synsets_for_domain(economy_domains)\n",
    "    synsets = token._.wordnet.synsets()\n",
    "    if not synsets or token.is_stop or token.is_punct:\n",
    "        enriched_sentence.append(token.text)\n",
    "    else:\n",
    "        lemmas_for_synset = [lemma for s in synsets for lemma in s.lemma_names()]\n",
    "        lemmas_for_synset = [l.replace('_', ' ').replace('-', ' ') for l in lemmas_for_synset]\n",
    "        lemmas_for_synset = [ps.stem(l) for l in lemmas_for_synset]\n",
    "        print('lemmas_for_synset, ', token.text)\n",
    "        print(list(set(lemmas_for_synset)))\n",
    "        # If we found a synset in the economy domains\n",
    "        # we get the variants and add them to the enriched sentence\n",
    "        enriched_sentence.append('({})'.format('|'.join(set(lemmas_for_synset))))\n",
    "\n",
    "# Let's see our enriched sentence\n",
    "print(' '.join(enriched_sentence))"
   ]
  },
  {
   "cell_type": "code",
   "execution_count": 55,
   "metadata": {},
   "outputs": [
    {
     "data": {
      "text/plain": [
       "['(economical|economic)',\n",
       " '(tautness|latent_hostility|stress|tensity|tension|tenseness)',\n",
       " 'between',\n",
       " \"(Taiwan|Republic_of_China|Cathay|china|China|Communist_China|Red_China|mainland_China|PRC|chinaware|Nationalist_China|People's_Republic_of_China)\",\n",
       " 'and',\n",
       " 'US']"
      ]
     },
     "execution_count": 55,
     "metadata": {},
     "output_type": "execute_result"
    }
   ],
   "source": [
    "enriched_sentence"
   ]
  },
  {
   "cell_type": "code",
   "execution_count": 6,
   "metadata": {},
   "outputs": [],
   "source": [
    "# experiment with stemmer\n",
    "from nltk.stem import PorterStemmer\n",
    "\n",
    "ps = PorterStemmer()"
   ]
  },
  {
   "cell_type": "code",
   "execution_count": 58,
   "metadata": {},
   "outputs": [
    {
     "name": "stdout",
     "output_type": "stream",
     "text": [
      "python\n",
      "python\n",
      "python\n",
      "python\n",
      "pythonli\n",
      "repulic of china\n"
     ]
    }
   ],
   "source": [
    "example_words = [\"python\",\"pythoner\",\"Pythoning\",\"pythoned\",\"pythonly\", 'Repulic of China']\n",
    "for w in example_words:\n",
    "    print(ps.stem(w))"
   ]
  },
  {
   "cell_type": "code",
   "execution_count": 10,
   "metadata": {},
   "outputs": [
    {
     "name": "stdout",
     "output_type": "stream",
     "text": [
      "It\n",
      "is\n",
      "import\n",
      "to\n",
      "by\n",
      "veri\n",
      "pythonli\n",
      "while\n",
      "you\n",
      "are\n",
      "python\n",
      "with\n",
      "python\n",
      ".\n",
      "all\n",
      "python\n",
      "have\n",
      "python\n",
      "poorli\n",
      "at\n",
      "least\n",
      "onc\n",
      ".\n"
     ]
    }
   ],
   "source": [
    "new_text = \"It is important to by very pythonly while you are pythoning with python. All pythoners have pythoned poorly at least once.\"\n",
    "new_doc = nlp(new_text)\n",
    "\n",
    "for w in new_doc:\n",
    "    print(ps.stem(w.text))"
   ]
  },
  {
   "cell_type": "code",
   "execution_count": 11,
   "metadata": {},
   "outputs": [],
   "source": [
    "# inspect index\n",
    "from pyserini import analysis, index\n",
    "\n",
    "index_reader = index.IndexReader('../indexes/msmarco-doc/')"
   ]
  },
  {
   "cell_type": "code",
   "execution_count": 22,
   "metadata": {},
   "outputs": [
    {
     "name": "stdout",
     "output_type": "stream",
     "text": [
      "0.009sum (df=1, cf=1)\n",
      "0.009svv (df=1, cf=1)\n",
      "0.009swva (df=1, cf=1)\n",
      "0.009ten (df=1, cf=1)\n",
      "0.009the (df=1, cf=1)\n",
      "0.009threonin (df=1, cf=1)\n",
      "0.009w (df=1, cf=1)\n",
      "0.009wax (df=1, cf=1)\n",
      "0.009wife (df=1, cf=1)\n",
      "0.009wilcoxon (df=1, cf=1)\n",
      "0.009ωd (df=1, cf=1)\n",
      "0.00;0.0 (df=1, cf=1)\n",
      "0.00;0.00 (df=1, cf=1)\n",
      "0.00;0.005 (df=1, cf=1)\n",
      "0.00;347348 (df=1, cf=1)\n",
      "0.00_ (df=15, cf=43)\n",
      "0.00a (df=21, cf=29)\n",
      "0.00ab (df=1, cf=1)\n",
      "0.00abbybank (df=1, cf=1)\n",
      "0.00abec (df=1, cf=1)\n"
     ]
    }
   ],
   "source": [
    "import itertools\n",
    "for term in itertools.islice(index_reader.terms(), 21100, 21120):\n",
    "    print(f'{term.term} (df={term.df}, cf={term.cf})')"
   ]
  },
  {
   "cell_type": "code",
   "execution_count": 18,
   "metadata": {},
   "outputs": [
    {
     "name": "stdout",
     "output_type": "stream",
     "text": [
      "term \"cities\": df=495994, cf=2431480\n"
     ]
    }
   ],
   "source": [
    "term = 'cities'\n",
    "\n",
    "# Look up its document frequency (df) and collection frequency (cf).\n",
    "# Note, we use the unanalyzed form:\n",
    "df, cf = index_reader.get_term_counts(term)\n",
    "print(f'term \"{term}\": df={df}, cf={cf}')"
   ]
  },
  {
   "cell_type": "code",
   "execution_count": 24,
   "metadata": {},
   "outputs": [
    {
     "name": "stdout",
     "output_type": "stream",
     "text": [
      "The analyzed form of \"cities\" is \"citi\"\n",
      "term \"cities\": df=495994, cf=2431480\n"
     ]
    }
   ],
   "source": [
    "term = 'cities'\n",
    "\n",
    "# Analyze the term.\n",
    "analyzed = index_reader.analyze(term)\n",
    "print(f'The analyzed form of \"{term}\" is \"{analyzed[0]}\"')\n",
    "\n",
    "# Skip term analysis:\n",
    "df, cf = index_reader.get_term_counts(analyzed[0], analyzer=None)\n",
    "print(f'term \"{term}\": df={df}, cf={cf}')"
   ]
  },
  {
   "cell_type": "code",
   "execution_count": 26,
   "metadata": {},
   "outputs": [
    {
     "name": "stdout",
     "output_type": "stream",
     "text": [
      "how many postings 495994\n"
     ]
    }
   ],
   "source": [
    "# Fetch and traverse postings for an unanalyzed term:\n",
    "postings_list = index_reader.get_postings_list(term)\n",
    "print('how many postings', len(postings_list))"
   ]
  },
  {
   "cell_type": "code",
   "execution_count": 27,
   "metadata": {},
   "outputs": [
    {
     "name": "stdout",
     "output_type": "stream",
     "text": [
      "docid=3, tf=1, pos=[355]\n",
      "docid=24, tf=2, pos=[41, 92]\n",
      "docid=32, tf=1, pos=[311]\n",
      "docid=41, tf=1, pos=[306]\n",
      "docid=61, tf=9, pos=[158, 998, 1267, 1329, 1901, 1911, 1948, 2527, 3328]\n",
      "docid=62, tf=1, pos=[53]\n",
      "docid=68, tf=1, pos=[717]\n",
      "docid=72, tf=5, pos=[2734, 4210, 6924, 7774, 8632]\n",
      "docid=78, tf=45, pos=[1514, 1781, 3912, 3925, 3962, 3971, 4011, 4412, 5756, 8704, 8951, 10307, 10427, 10448, 10761, 12936, 13500, 13865, 13969, 14005, 14730, 16796, 16808, 17710, 18385, 18428, 18434, 18488, 18501, 18515, 18533, 18669, 18674, 18680, 18726, 18898, 18903, 19082, 19099, 19105, 19203, 19735, 20316, 20604, 21634]\n",
      "docid=79, tf=1, pos=[22099]\n"
     ]
    }
   ],
   "source": [
    "for posting in postings_list[0:10]:\n",
    "    print(f'docid={posting.docid}, tf={posting.tf}, pos={posting.positions}')"
   ]
  },
  {
   "cell_type": "code",
   "execution_count": null,
   "metadata": {},
   "outputs": [],
   "source": []
  },
  {
   "cell_type": "code",
   "execution_count": null,
   "metadata": {},
   "outputs": [],
   "source": [
    "# test out the nn_wordnet module\n",
    "import os,sys,inspect\n",
    "current_dir = os.path.dirname(os.path.abspath(inspect.getfile(inspect.currentframe())))\n",
    "parent_dir = os.path.dirname(current_dir)\n",
    "sys.path.insert(0, parent_dir)\n",
    "from nn_wordnet import NNWordNet\n",
    "\n",
    "nn = NNWordNet()\n",
    "nn.expand_query_version_1('Chinese dream versus American dream')"
   ]
  }
 ],
 "metadata": {
  "kernelspec": {
   "display_name": "Python 3",
   "language": "python",
   "name": "python3"
  },
  "language_info": {
   "codemirror_mode": {
    "name": "ipython",
    "version": 3
   },
   "file_extension": ".py",
   "mimetype": "text/x-python",
   "name": "python",
   "nbconvert_exporter": "python",
   "pygments_lexer": "ipython3",
   "version": "3.7.8"
  }
 },
 "nbformat": 4,
 "nbformat_minor": 4
}
